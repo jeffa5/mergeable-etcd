{
 "cells": [
  {
   "cell_type": "code",
   "execution_count": 1,
   "id": "adjustable-equivalent",
   "metadata": {},
   "outputs": [
    {
     "name": "stdout",
     "output_type": "stream",
     "text": [
      "experiments-results/experiments/2021-06-21T10:12:58.212633840+00:00/bencher\n"
     ]
    }
   ],
   "source": [
    "import os\n",
    "\n",
    "exp_dates = [f for f in os.listdir(\"experiments-results/experiments\")]\n",
    "exp_dates.sort()\n",
    "\n",
    "for d in exp_dates[::-1]:\n",
    "    if os.listdir(f\"experiments-results/experiments/{d}\")[0] == \"bencher\":\n",
    "        exp_date = d\n",
    "        break\n",
    "\n",
    "\n",
    "exp_dir = f\"experiments-results/experiments/{d}/bencher\"\n",
    "\n",
    "config_dirs = [f for f in os.listdir(exp_dir) if f.startswith(\"configuration\")]\n",
    "config_dirs.sort()\n",
    "\n",
    "print(exp_dir)"
   ]
  },
  {
   "cell_type": "code",
   "execution_count": 2,
   "id": "abstract-story",
   "metadata": {},
   "outputs": [
    {
     "name": "stdout",
     "output_type": "stream",
     "text": [
      "processing configuration-1\n",
      "processing configuration-2\n",
      "processing configuration-3\n"
     ]
    }
   ],
   "source": [
    "# latency cdfs data\n",
    "\n",
    "import json\n",
    "from collections import defaultdict\n",
    "from datetime import datetime, timezone, timedelta\n",
    "\n",
    "latencies = defaultdict(list) # mapping from config json to latency list\n",
    "\n",
    "for config in config_dirs:\n",
    "    print(\"processing\", config)\n",
    "    c = json.dumps(json.loads(\"\".join(open(f\"{exp_dir}/{config}/configuration.json\").readlines()))[\"Bencher\"])\n",
    "    \n",
    "    for repeat in os.listdir(f\"{exp_dir}/{config}\"):\n",
    "        if repeat.startswith(\"repeat\"): \n",
    "            # read logs of docker-bench\n",
    "            with open(f\"{exp_dir}/{config}/{repeat}/logs/docker-bench.log\", \"r\") as log:\n",
    "                for line in log.readlines():\n",
    "                    j = line.split()[1]\n",
    "                    \n",
    "                    output = json.loads(j)\n",
    "                    \n",
    "                    start_secs = output[\"start\"][\"secs_since_epoch\"]\n",
    "                    start_nanos = output[\"start\"][\"nanos_since_epoch\"]\n",
    "                    start = datetime(1970, 1, 1, tzinfo=timezone.utc) + timedelta(seconds=start_secs,microseconds=start_nanos/1000)\n",
    "\n",
    "                    end_secs = output[\"end\"][\"secs_since_epoch\"]\n",
    "                    end_nanos = output[\"end\"][\"nanos_since_epoch\"]\n",
    "                    end = datetime(1970, 1, 1, tzinfo=timezone.utc) + timedelta(seconds=end_secs,microseconds=end_nanos/1000)\n",
    "                    \n",
    "                    latency = end - start\n",
    "                    latencies[c].append((latency / timedelta(microseconds=1))/1000.)"
   ]
  },
  {
   "cell_type": "code",
   "execution_count": 6,
   "id": "described-memory",
   "metadata": {
    "scrolled": true
   },
   "outputs": [
    {
     "data": {
      "image/png": "[encoded data removed]",
      "text/plain": [
       "<Figure size 460.8x345.6 with 1 Axes>"
      ]
     },
     "metadata": {
      "needs_background": "light"
     },
     "output_type": "display_data"
    }
   ],
   "source": [
    "# latency cdfs plots\n",
    "\n",
    "import numpy as np\n",
    "import matplotlib.pyplot as plt\n",
    "\n",
    "plt.rcParams.update({\n",
    "    \"text.usetex\": True,\n",
    "    \"font.family\": \"serif\",\n",
    "    \"font.size\": 12,\n",
    "})\n",
    "\n",
    "f = plt.figure()\n",
    "f.set_figwidth(6.4 * 1)\n",
    "f.set_figheight(4.8 * 1)\n",
    "    \n",
    "for (k, v) in latencies.items():\n",
    "    config = json.loads(k)\n",
    "    cluster_size = config[\"cluster_size\"]\n",
    "    if cluster_size == 1:\n",
    "        image = \"etcd\" if config[\"image_name\"] == \"quay.io/coreos/etcd\" else \"eckd\"\n",
    "        sync = \" sync\" if \"--sync\" in config[\"extra_args\"] else \"\"\n",
    "\n",
    "        v.sort()\n",
    "        size = len(v)\n",
    "        ys = np.array(range(size))/ float(size)\n",
    "\n",
    "        plt.plot(v, ys, label=f\"{image} x{cluster_size}{sync}\")\n",
    "    \n",
    "plt.xlabel(\"Request duration (ms)\")\n",
    "plt.ylabel(\"Probability\")\n",
    "plt.legend()\n",
    "\n",
    "plt.savefig(f\"{exp_dir}/plots/latency-cdf.svg\")"
   ]
  }
 ],
 "metadata": {
  "kernelspec": {
   "display_name": "Python 3",
   "language": "python",
   "name": "python3"
  },
  "language_info": {
   "codemirror_mode": {
    "name": "ipython",
    "version": 3
   },
   "file_extension": ".py",
   "mimetype": "text/x-python",
   "name": "python",
   "nbconvert_exporter": "python",
   "pygments_lexer": "ipython3",
   "version": "3.8.9"
  }
 },
 "nbformat": 4,
 "nbformat_minor": 5
}
