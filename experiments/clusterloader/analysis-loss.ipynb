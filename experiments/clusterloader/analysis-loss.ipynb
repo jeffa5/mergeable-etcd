{
 "cells": [
  {
   "cell_type": "code",
   "execution_count": 70,
   "id": "fb9ac855",
   "metadata": {},
   "outputs": [],
   "source": [
    "import matplotlib\n",
    "import matplotlib.pyplot as plt\n",
    "import json\n",
    "import seaborn as sns\n",
    "import pandas as pd\n",
    "import numpy as np\n",
    "import os\n",
    "from collections import defaultdict\n",
    "from dateutil.parser import parse\n",
    "from datetime import timedelta"
   ]
  },
  {
   "cell_type": "code",
   "execution_count": 71,
   "id": "a052b891",
   "metadata": {},
   "outputs": [
    {
     "name": "stdout",
     "output_type": "stream",
     "text": [
      "results_dir: results/loss/2022-01-27T13:59:21+00:00\n"
     ]
    }
   ],
   "source": [
    "results_dir = \"results/loss\"\n",
    "\n",
    "results_options = [f\"{results_dir}/{f}\" for f in os.listdir(f\"{results_dir}\") if os.path.isdir(f\"{results_dir}/{f}\")]\n",
    "results_options.sort()\n",
    "\n",
    "# results_dir = \"results/2022-01-07T11:40:21+00:00\"\n",
    "\n",
    "results_dir = results_options[-1]\n",
    "print(f\"results_dir: {results_dir}\")"
   ]
  },
  {
   "cell_type": "code",
   "execution_count": 72,
   "id": "2cad5526",
   "metadata": {},
   "outputs": [],
   "source": [
    "results = [f for f in os.listdir(results_dir) if f.endswith(\"json\") and f.startswith(\"PodStartupLatency\")]\n",
    "configs = [f for f in os.listdir(results_dir) if f.endswith(\"json\") and f.startswith(\"config\")]\n",
    "\n",
    "results.sort()\n",
    "configs.sort()\n",
    "\n",
    "df = pd.DataFrame()\n",
    "for (config, r) in zip(configs, results):\n",
    "    with open(f\"{results_dir}/{config}\", \"r\") as c:\n",
    "        with open(f\"{results_dir}/{r}\") as r:\n",
    "            \n",
    "            config_json = json.loads(c.read())\n",
    "            results_json = json.loads(r.read())\n",
    "            \n",
    "            rows_json = defaultdict(list)\n",
    "\n",
    "            for item in results_json[\"dataItems\"]:\n",
    "                name = item[\"labels\"][\"Metric\"]\n",
    "                data = item[\"raw\"]\n",
    "                rows_json[\"metric\"] += [name for _ in range(len(data))]\n",
    "                \n",
    "                starts = [parse(d[\"start\"]) for d in data]\n",
    "                start = min(starts)\n",
    "                rows_json[\"start\"] += [parse(d[\"start\"]) - start for d in data]\n",
    "                rows_json[\"start_ms\"] += [(parse(d[\"start\"])- start) / timedelta(milliseconds=1)  for d in data]\n",
    "\n",
    "                rows_json[\"end\"] += [parse(d[\"end\"]) - start for d in data]\n",
    "                rows_json[\"end_ms\"] += [(parse(d[\"end\"]) - start) / timedelta(milliseconds=1) for d in data]\n",
    "                \n",
    "                rows_json[\"measurement\"] += [(parse(d[\"end\"]) - parse(d[\"start\"])) / timedelta(milliseconds=1) for d in data]\n",
    "\n",
    "            for k, v in config_json.items():\n",
    "                rows_json[k] = [v for _ in range(len(rows_json[\"metric\"]))]\n",
    "            \n",
    "            d = pd.DataFrame(rows_json)\n",
    "            df = df.append(d, ignore_index=True)"
   ]
  },
  {
   "cell_type": "code",
   "execution_count": 73,
   "id": "8e7b11f4",
   "metadata": {},
   "outputs": [
    {
     "data": {
      "text/html": [
       "<div>\n",
       "<style scoped>\n",
       "    .dataframe tbody tr th:only-of-type {\n",
       "        vertical-align: middle;\n",
       "    }\n",
       "\n",
       "    .dataframe tbody tr th {\n",
       "        vertical-align: top;\n",
       "    }\n",
       "\n",
       "    .dataframe thead th {\n",
       "        text-align: right;\n",
       "    }\n",
       "</style>\n",
       "<table border=\"1\" class=\"dataframe\">\n",
       "  <thead>\n",
       "    <tr style=\"text-align: right;\">\n",
       "      <th></th>\n",
       "      <th>start</th>\n",
       "      <th>start_ms</th>\n",
       "      <th>end</th>\n",
       "      <th>end_ms</th>\n",
       "      <th>measurement</th>\n",
       "      <th>partitioned</th>\n",
       "      <th>masters</th>\n",
       "    </tr>\n",
       "  </thead>\n",
       "  <tbody>\n",
       "    <tr>\n",
       "      <th>count</th>\n",
       "      <td>780</td>\n",
       "      <td>780.000000</td>\n",
       "      <td>780</td>\n",
       "      <td>780.000000</td>\n",
       "      <td>780.000000</td>\n",
       "      <td>780.000000</td>\n",
       "      <td>780.0</td>\n",
       "    </tr>\n",
       "    <tr>\n",
       "      <th>mean</th>\n",
       "      <td>0 days 00:00:16.939449726</td>\n",
       "      <td>16939.449727</td>\n",
       "      <td>0 days 00:00:23.284060720</td>\n",
       "      <td>23284.060721</td>\n",
       "      <td>6344.610994</td>\n",
       "      <td>0.500000</td>\n",
       "      <td>3.0</td>\n",
       "    </tr>\n",
       "    <tr>\n",
       "      <th>std</th>\n",
       "      <td>0 days 00:00:22.962260147</td>\n",
       "      <td>22962.260148</td>\n",
       "      <td>0 days 00:00:31.368640329</td>\n",
       "      <td>31368.640330</td>\n",
       "      <td>20954.816699</td>\n",
       "      <td>0.500321</td>\n",
       "      <td>0.0</td>\n",
       "    </tr>\n",
       "    <tr>\n",
       "      <th>min</th>\n",
       "      <td>0 days 00:00:00</td>\n",
       "      <td>0.000000</td>\n",
       "      <td>0 days 00:00:00</td>\n",
       "      <td>0.000000</td>\n",
       "      <td>-417.579000</td>\n",
       "      <td>0.000000</td>\n",
       "      <td>3.0</td>\n",
       "    </tr>\n",
       "    <tr>\n",
       "      <th>25%</th>\n",
       "      <td>0 days 00:00:06</td>\n",
       "      <td>6000.000000</td>\n",
       "      <td>0 days 00:00:06.580961</td>\n",
       "      <td>6580.961000</td>\n",
       "      <td>16.453250</td>\n",
       "      <td>0.000000</td>\n",
       "      <td>3.0</td>\n",
       "    </tr>\n",
       "    <tr>\n",
       "      <th>50%</th>\n",
       "      <td>0 days 00:00:11.367936</td>\n",
       "      <td>11367.936000</td>\n",
       "      <td>0 days 00:00:12.322493500</td>\n",
       "      <td>12322.493500</td>\n",
       "      <td>569.168000</td>\n",
       "      <td>0.500000</td>\n",
       "      <td>3.0</td>\n",
       "    </tr>\n",
       "    <tr>\n",
       "      <th>75%</th>\n",
       "      <td>0 days 00:00:16.590580750</td>\n",
       "      <td>16590.580750</td>\n",
       "      <td>0 days 00:00:18.157254750</td>\n",
       "      <td>18157.254750</td>\n",
       "      <td>1408.734000</td>\n",
       "      <td>1.000000</td>\n",
       "      <td>3.0</td>\n",
       "    </tr>\n",
       "    <tr>\n",
       "      <th>max</th>\n",
       "      <td>0 days 00:01:45.516846</td>\n",
       "      <td>105516.846000</td>\n",
       "      <td>0 days 00:01:51.101934</td>\n",
       "      <td>111101.934000</td>\n",
       "      <td>102101.934000</td>\n",
       "      <td>1.000000</td>\n",
       "      <td>3.0</td>\n",
       "    </tr>\n",
       "  </tbody>\n",
       "</table>\n",
       "</div>"
      ],
      "text/plain": [
       "                           start       start_ms                        end  \\\n",
       "count                        780     780.000000                        780   \n",
       "mean   0 days 00:00:16.939449726   16939.449727  0 days 00:00:23.284060720   \n",
       "std    0 days 00:00:22.962260147   22962.260148  0 days 00:00:31.368640329   \n",
       "min              0 days 00:00:00       0.000000            0 days 00:00:00   \n",
       "25%              0 days 00:00:06    6000.000000     0 days 00:00:06.580961   \n",
       "50%       0 days 00:00:11.367936   11367.936000  0 days 00:00:12.322493500   \n",
       "75%    0 days 00:00:16.590580750   16590.580750  0 days 00:00:18.157254750   \n",
       "max       0 days 00:01:45.516846  105516.846000     0 days 00:01:51.101934   \n",
       "\n",
       "              end_ms    measurement  partitioned  masters  \n",
       "count     780.000000     780.000000   780.000000    780.0  \n",
       "mean    23284.060721    6344.610994     0.500000      3.0  \n",
       "std     31368.640330   20954.816699     0.500321      0.0  \n",
       "min         0.000000    -417.579000     0.000000      3.0  \n",
       "25%      6580.961000      16.453250     0.000000      3.0  \n",
       "50%     12322.493500     569.168000     0.500000      3.0  \n",
       "75%     18157.254750    1408.734000     1.000000      3.0  \n",
       "max    111101.934000  102101.934000     1.000000      3.0  "
      ]
     },
     "execution_count": 73,
     "metadata": {},
     "output_type": "execute_result"
    }
   ],
   "source": [
    "df.describe()"
   ]
  },
  {
   "cell_type": "code",
   "execution_count": 74,
   "id": "a386d15b",
   "metadata": {},
   "outputs": [
    {
     "data": {
      "text/html": [
       "<div>\n",
       "<style scoped>\n",
       "    .dataframe tbody tr th:only-of-type {\n",
       "        vertical-align: middle;\n",
       "    }\n",
       "\n",
       "    .dataframe tbody tr th {\n",
       "        vertical-align: top;\n",
       "    }\n",
       "\n",
       "    .dataframe thead th {\n",
       "        text-align: right;\n",
       "    }\n",
       "</style>\n",
       "<table border=\"1\" class=\"dataframe\">\n",
       "  <thead>\n",
       "    <tr style=\"text-align: right;\">\n",
       "      <th></th>\n",
       "      <th>metric</th>\n",
       "      <th>start</th>\n",
       "      <th>start_ms</th>\n",
       "      <th>end</th>\n",
       "      <th>end_ms</th>\n",
       "      <th>measurement</th>\n",
       "      <th>partitioned</th>\n",
       "      <th>masters</th>\n",
       "      <th>image</th>\n",
       "    </tr>\n",
       "  </thead>\n",
       "  <tbody>\n",
       "    <tr>\n",
       "      <th>0</th>\n",
       "      <td>client_initialized_to_client_containersready</td>\n",
       "      <td>0 days 00:00:07.523053</td>\n",
       "      <td>7523.053</td>\n",
       "      <td>0 days 00:00:08.180179</td>\n",
       "      <td>8180.179</td>\n",
       "      <td>657.126</td>\n",
       "      <td>0</td>\n",
       "      <td>3</td>\n",
       "      <td>etcd</td>\n",
       "    </tr>\n",
       "    <tr>\n",
       "      <th>1</th>\n",
       "      <td>client_initialized_to_client_containersready</td>\n",
       "      <td>0 days 00:00:03.502088</td>\n",
       "      <td>3502.088</td>\n",
       "      <td>0 days 00:00:04.170068</td>\n",
       "      <td>4170.068</td>\n",
       "      <td>667.980</td>\n",
       "      <td>0</td>\n",
       "      <td>3</td>\n",
       "      <td>etcd</td>\n",
       "    </tr>\n",
       "    <tr>\n",
       "      <th>2</th>\n",
       "      <td>client_initialized_to_client_containersready</td>\n",
       "      <td>0 days 00:00:18.544916</td>\n",
       "      <td>18544.916</td>\n",
       "      <td>0 days 00:00:19.218123</td>\n",
       "      <td>19218.123</td>\n",
       "      <td>673.207</td>\n",
       "      <td>0</td>\n",
       "      <td>3</td>\n",
       "      <td>etcd</td>\n",
       "    </tr>\n",
       "    <tr>\n",
       "      <th>3</th>\n",
       "      <td>client_initialized_to_client_containersready</td>\n",
       "      <td>0 days 00:00:04.503726</td>\n",
       "      <td>4503.726</td>\n",
       "      <td>0 days 00:00:05.182009</td>\n",
       "      <td>5182.009</td>\n",
       "      <td>678.283</td>\n",
       "      <td>0</td>\n",
       "      <td>3</td>\n",
       "      <td>etcd</td>\n",
       "    </tr>\n",
       "    <tr>\n",
       "      <th>4</th>\n",
       "      <td>client_initialized_to_client_containersready</td>\n",
       "      <td>0 days 00:00:13.097610</td>\n",
       "      <td>13097.610</td>\n",
       "      <td>0 days 00:00:13.980582</td>\n",
       "      <td>13980.582</td>\n",
       "      <td>882.972</td>\n",
       "      <td>0</td>\n",
       "      <td>3</td>\n",
       "      <td>etcd</td>\n",
       "    </tr>\n",
       "  </tbody>\n",
       "</table>\n",
       "</div>"
      ],
      "text/plain": [
       "                                         metric                  start  \\\n",
       "0  client_initialized_to_client_containersready 0 days 00:00:07.523053   \n",
       "1  client_initialized_to_client_containersready 0 days 00:00:03.502088   \n",
       "2  client_initialized_to_client_containersready 0 days 00:00:18.544916   \n",
       "3  client_initialized_to_client_containersready 0 days 00:00:04.503726   \n",
       "4  client_initialized_to_client_containersready 0 days 00:00:13.097610   \n",
       "\n",
       "    start_ms                    end     end_ms  measurement  partitioned  \\\n",
       "0   7523.053 0 days 00:00:08.180179   8180.179      657.126            0   \n",
       "1   3502.088 0 days 00:00:04.170068   4170.068      667.980            0   \n",
       "2  18544.916 0 days 00:00:19.218123  19218.123      673.207            0   \n",
       "3   4503.726 0 days 00:00:05.182009   5182.009      678.283            0   \n",
       "4  13097.610 0 days 00:00:13.980582  13980.582      882.972            0   \n",
       "\n",
       "   masters image  \n",
       "0        3  etcd  \n",
       "1        3  etcd  \n",
       "2        3  etcd  \n",
       "3        3  etcd  \n",
       "4        3  etcd  "
      ]
     },
     "execution_count": 74,
     "metadata": {},
     "output_type": "execute_result"
    }
   ],
   "source": [
    "df.head()"
   ]
  },
  {
   "cell_type": "code",
   "execution_count": 75,
   "id": "451748f6",
   "metadata": {},
   "outputs": [],
   "source": [
    "master_counts = sorted(list(set(df[\"masters\"])))\n",
    "data_per_masters = [df[df[\"masters\"] == i] for i in master_counts]"
   ]
  },
  {
   "cell_type": "code",
   "execution_count": 76,
   "id": "716ba36a",
   "metadata": {},
   "outputs": [],
   "source": [
    "def stripbar(data):\n",
    "    for image in set(data.image):\n",
    "        data = data[data.image == image]\n",
    "        print(image)\n",
    "        partitioned = (sorted(list(set(data.partitioned))))\n",
    "        g = sns.FacetGrid(data, col=\"masters\")\n",
    "        np.random.seed(100)\n",
    "        g.map(sns.stripplot, \"partitioned\", \"measurement\", order=partitioned)\n",
    "        np.random.seed(100)\n",
    "        g.map(sns.barplot, \"partitioned\", \"measurement\", alpha=0.2, order=partitioned)\n",
    "        g.set(xlabel=\"Partitioned\", ylabel=\"Duration (ms)\")\n",
    "        plt.show()\n",
    "        \n",
    "        g = sns.FacetGrid(data, col=\"masters\", hue=\"partitioned\")\n",
    "        g.map_dataframe(sns.scatterplot, x=\"start_ms\", y=\"measurement\", alpha=0.7)\n",
    "        g.add_legend()\n",
    "        g.set(xlabel=\"Time since start (ms)\", ylabel=\"Duration (ms)\")\n",
    "        plt.show()"
   ]
  },
  {
   "cell_type": "code",
   "execution_count": 77,
   "id": "70561d60",
   "metadata": {
    "scrolled": false
   },
   "outputs": [
    {
     "name": "stdout",
     "output_type": "stream",
     "text": [
      "etcd\n"
     ]
    },
    {
     "data": {
      "image/png": "[encoded data removed]",
      "text/plain": [
       "<Figure size 216x216 with 1 Axes>"
      ]
     },
     "metadata": {
      "needs_background": "light"
     },
     "output_type": "display_data"
    },
    {
     "data": {
      "image/png": "[encoded data removed]",
      "text/plain": [
       "<Figure size 278.875x216 with 1 Axes>"
      ]
     },
     "metadata": {
      "needs_background": "light"
     },
     "output_type": "display_data"
    }
   ],
   "source": [
    "data = df[np.isin(df.metric, [\"client_create_to_client_schedule\"])]\n",
    "stripbar(data)"
   ]
  },
  {
   "cell_type": "code",
   "execution_count": 78,
   "id": "cb2cc10a",
   "metadata": {},
   "outputs": [
    {
     "name": "stdout",
     "output_type": "stream",
     "text": [
      "etcd\n"
     ]
    },
    {
     "data": {
      "image/png": "[encoded data removed]",
      "text/plain": [
       "<Figure size 216x216 with 1 Axes>"
      ]
     },
     "metadata": {
      "needs_background": "light"
     },
     "output_type": "display_data"
    },
    {
     "data": {
      "image/png": "[encoded data removed]",
      "text/plain": [
       "<Figure size 278.875x216 with 1 Axes>"
      ]
     },
     "metadata": {
      "needs_background": "light"
     },
     "output_type": "display_data"
    }
   ],
   "source": [
    "data = df[np.isin(df.metric, [\"client_create_to_client_schedule\"])]\n",
    "data = data[data.measurement < 500] # cut off outliers\n",
    "stripbar(data)"
   ]
  },
  {
   "cell_type": "code",
   "execution_count": 79,
   "id": "768e1ed5",
   "metadata": {},
   "outputs": [
    {
     "name": "stdout",
     "output_type": "stream",
     "text": [
      "etcd\n"
     ]
    },
    {
     "data": {
      "image/png": "[encoded data removed]",
      "text/plain": [
       "<Figure size 216x216 with 1 Axes>"
      ]
     },
     "metadata": {
      "needs_background": "light"
     },
     "output_type": "display_data"
    },
    {
     "data": {
      "image/png": "[encoded data removed]",
      "text/plain": [
       "<Figure size 278.875x216 with 1 Axes>"
      ]
     },
     "metadata": {
      "needs_background": "light"
     },
     "output_type": "display_data"
    }
   ],
   "source": [
    "data = df[np.isin(df.metric, [\"client_schedule_to_client_started\"])]\n",
    "stripbar(data)"
   ]
  },
  {
   "cell_type": "code",
   "execution_count": 80,
   "id": "5a620888",
   "metadata": {},
   "outputs": [
    {
     "name": "stdout",
     "output_type": "stream",
     "text": [
      "etcd\n"
     ]
    },
    {
     "data": {
      "image/png": "[encoded data removed]",
      "text/plain": [
       "<Figure size 216x216 with 1 Axes>"
      ]
     },
     "metadata": {
      "needs_background": "light"
     },
     "output_type": "display_data"
    },
    {
     "data": {
      "image/png": "[encoded data removed]",
      "text/plain": [
       "<Figure size 278.875x216 with 1 Axes>"
      ]
     },
     "metadata": {
      "needs_background": "light"
     },
     "output_type": "display_data"
    }
   ],
   "source": [
    "data = df[np.isin(df.metric, [\"client_started_to_client_initialized\"])]\n",
    "stripbar(data)"
   ]
  },
  {
   "cell_type": "code",
   "execution_count": 81,
   "id": "a470dbfe",
   "metadata": {},
   "outputs": [
    {
     "name": "stdout",
     "output_type": "stream",
     "text": [
      "etcd\n"
     ]
    },
    {
     "data": {
      "image/png": "[encoded data removed]",
      "text/plain": [
       "<Figure size 216x216 with 1 Axes>"
      ]
     },
     "metadata": {
      "needs_background": "light"
     },
     "output_type": "display_data"
    },
    {
     "data": {
      "image/png": "[encoded data removed]",
      "text/plain": [
       "<Figure size 278.875x216 with 1 Axes>"
      ]
     },
     "metadata": {
      "needs_background": "light"
     },
     "output_type": "display_data"
    }
   ],
   "source": [
    "data = df[np.isin(df.metric, [\"client_initialized_to_client_containersready\"])]\n",
    "stripbar(data)"
   ]
  },
  {
   "cell_type": "code",
   "execution_count": 82,
   "id": "62380a51",
   "metadata": {},
   "outputs": [
    {
     "name": "stdout",
     "output_type": "stream",
     "text": [
      "etcd\n"
     ]
    },
    {
     "data": {
      "image/png": "[encoded data removed]",
      "text/plain": [
       "<Figure size 216x216 with 1 Axes>"
      ]
     },
     "metadata": {
      "needs_background": "light"
     },
     "output_type": "display_data"
    },
    {
     "data": {
      "image/png": "[encoded data removed]",
      "text/plain": [
       "<Figure size 278.875x216 with 1 Axes>"
      ]
     },
     "metadata": {
      "needs_background": "light"
     },
     "output_type": "display_data"
    }
   ],
   "source": [
    "data = df[np.isin(df.metric, [\"client_containersready_to_client_podready\"])]\n",
    "stripbar(data)"
   ]
  }
 ],
 "metadata": {
  "interpreter": {
   "hash": "b2b699f07a36eea47b62904e00f84db3ecb37390be14834a97b13402a6e83869"
  },
  "kernelspec": {
   "display_name": "Python 3",
   "language": "python",
   "name": "python3"
  },
  "language_info": {
   "codemirror_mode": {
    "name": "ipython",
    "version": 3
   },
   "file_extension": ".py",
   "mimetype": "text/x-python",
   "name": "python",
   "nbconvert_exporter": "python",
   "pygments_lexer": "ipython3",
   "version": "3.9.9"
  }
 },
 "nbformat": 4,
 "nbformat_minor": 5
}
