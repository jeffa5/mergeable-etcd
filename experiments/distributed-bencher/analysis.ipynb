{
 "cells": [
  {
   "cell_type": "code",
   "execution_count": 1,
   "id": "f47696e5",
   "metadata": {},
   "outputs": [],
   "source": [
    "import os\n",
    "\n",
    "exp_dir = f\"results/\"\n",
    "\n",
    "os.makedirs(f\"{exp_dir}/plots\", exist_ok=True)"
   ]
  },
  {
   "cell_type": "code",
   "execution_count": 15,
   "id": "abstract-story",
   "metadata": {},
   "outputs": [
    {
     "name": "stdout",
     "output_type": "stream",
     "text": [
      "etcd-1nodes-2benchers\n",
      "datapoints: 200000\n",
      "datapoints: 200000\n",
      "datapoints: 200000\n",
      "recetcd-1nodes-2benchers\n",
      "datapoints: 200000\n",
      "datapoints: 200000\n",
      "datapoints: 200000\n",
      "recetcd-3nodes-2benchers\n",
      "datapoints: 200000\n",
      "datapoints: 200000\n",
      "datapoints: 200000\n",
      "recetcd-3nodes-2benchers-sync\n",
      "datapoints: 200000\n",
      "datapoints: 200000\n",
      "etcd-5nodes-2benchers\n",
      "datapoints: 200000\n",
      "datapoints: 200000\n",
      "datapoints: 200000\n",
      "etcd-3nodes-2benchers\n",
      "datapoints: 200000\n",
      "datapoints: 200000\n",
      "datapoints: 200000\n",
      "recetcd-5nodes-2benchers-sync\n",
      "datapoints: 200000\n",
      "datapoints: 200000\n",
      "datapoints: 200000\n",
      "recetcd-5nodes-2benchers\n",
      "datapoints: 200000\n",
      "datapoints: 200000\n",
      "datapoints: 200000\n",
      "recetcd-1nodes-2benchers-sync\n",
      "datapoints: 200000\n",
      "datapoints: 200000\n",
      "datapoints: 200000\n",
      "loaded 26\n"
     ]
    }
   ],
   "source": [
    "# latency cdfs data\n",
    "\n",
    "import json\n",
    "from collections import defaultdict\n",
    "from datetime import datetime, timezone, timedelta\n",
    "\n",
    "timings = defaultdict(lambda: defaultdict(list)) # mapping from config json to latency list\n",
    "\n",
    "for config_dir in os.listdir(exp_dir):    \n",
    "    if config_dir == \"plots\":\n",
    "        continue\n",
    "    print(config_dir)\n",
    "    \n",
    "    for repeat in os.listdir(f\"{exp_dir}/{config_dir}\"):\n",
    "        # read in configuration.json file and parse\n",
    "        with open(f\"{exp_dir}/{config_dir}/{repeat}/configuration.json\", \"r\") as config_file:\n",
    "            config = config_file.read()\n",
    "            config = json.dumps(json.loads(config))\n",
    "\n",
    "        # read logs of docker-bench\n",
    "        for bencher in os.listdir(f\"{exp_dir}/{config_dir}/{repeat}/logs\"):\n",
    "            if bencher.startswith(\"bencher\"):\n",
    "                with open(f\"{exp_dir}/{config_dir}/{repeat}/logs/{bencher}\", \"r\") as log:\n",
    "                    for line in log.readlines():\n",
    "                        j = line\n",
    "                        try:\n",
    "                            output = json.loads(j)\n",
    "                        except ValueError:\n",
    "                            continue\n",
    "\n",
    "                        start_secs = output[\"start\"][\"secs_since_epoch\"]\n",
    "                        start_nanos = output[\"start\"][\"nanos_since_epoch\"]\n",
    "                        start = datetime(1970, 1, 1, tzinfo=timezone.utc) + timedelta(seconds=start_secs,microseconds=start_nanos/1000)\n",
    "\n",
    "                        end_secs = output[\"end\"][\"secs_since_epoch\"]\n",
    "                        end_nanos = output[\"end\"][\"nanos_since_epoch\"]\n",
    "                        end = datetime(1970, 1, 1, tzinfo=timezone.utc) + timedelta(seconds=end_secs,microseconds=end_nanos/1000)\n",
    "\n",
    "                        latency = end - start\n",
    "                        timings[config][\"starts\"].append(start)\n",
    "                        timings[config][\"ends\"].append(end)\n",
    "                        timings[config][\"latencies\"].append((latency / timedelta(microseconds=1))/1000.)\n",
    "        print(\"datapoints:\", len(timings[config][\"latencies\"]))\n",
    "        \n",
    "print(\"loaded\", len(timings))"
   ]
  },
  {
   "cell_type": "code",
   "execution_count": 17,
   "id": "d21a71fa",
   "metadata": {},
   "outputs": [
    {
     "data": {
      "text/html": [
       "<div>\n",
       "<style scoped>\n",
       "    .dataframe tbody tr th:only-of-type {\n",
       "        vertical-align: middle;\n",
       "    }\n",
       "\n",
       "    .dataframe tbody tr th {\n",
       "        vertical-align: top;\n",
       "    }\n",
       "\n",
       "    .dataframe thead th {\n",
       "        text-align: right;\n",
       "    }\n",
       "</style>\n",
       "<table border=\"1\" class=\"dataframe\">\n",
       "  <thead>\n",
       "    <tr style=\"text-align: right;\">\n",
       "      <th></th>\n",
       "      <th>{\"image_name\": \"quay.io/coreos/etcd\", \"repeat\": 1, \"bench_type\": \"PutRange\", \"cluster_size\": 1, \"extra_args\": \"\", \"sync\": false}</th>\n",
       "      <th>{\"image_name\": \"quay.io/coreos/etcd\", \"repeat\": 2, \"bench_type\": \"PutRange\", \"cluster_size\": 1, \"extra_args\": \"\", \"sync\": false}</th>\n",
       "      <th>{\"image_name\": \"quay.io/coreos/etcd\", \"repeat\": 3, \"bench_type\": \"PutRange\", \"cluster_size\": 1, \"extra_args\": \"\", \"sync\": false}</th>\n",
       "      <th>{\"image_name\": \"jeffas/recetcd:latest\", \"repeat\": 1, \"bench_type\": \"PutRange\", \"cluster_size\": 1, \"extra_args\": \"\", \"sync\": false}</th>\n",
       "      <th>{\"image_name\": \"jeffas/recetcd:latest\", \"repeat\": 2, \"bench_type\": \"PutRange\", \"cluster_size\": 1, \"extra_args\": \"\", \"sync\": false}</th>\n",
       "      <th>{\"image_name\": \"jeffas/recetcd:latest\", \"repeat\": 3, \"bench_type\": \"PutRange\", \"cluster_size\": 1, \"extra_args\": \"\", \"sync\": false}</th>\n",
       "      <th>{\"image_name\": \"jeffas/recetcd:latest\", \"repeat\": 1, \"bench_type\": \"PutRange\", \"cluster_size\": 3, \"bencher_count\": 2, \"extra_args\": \"\", \"sync\": false}</th>\n",
       "      <th>{\"image_name\": \"jeffas/recetcd:latest\", \"repeat\": 2, \"bench_type\": \"PutRange\", \"cluster_size\": 3, \"bencher_count\": 2, \"extra_args\": \"\", \"sync\": false}</th>\n",
       "      <th>{\"image_name\": \"jeffas/recetcd:latest\", \"repeat\": 3, \"bench_type\": \"PutRange\", \"cluster_size\": 3, \"bencher_count\": 2, \"extra_args\": \"\", \"sync\": true}</th>\n",
       "      <th>{\"image_name\": \"jeffas/recetcd:latest\", \"repeat\": 1, \"bench_type\": \"PutRange\", \"cluster_size\": 3, \"bencher_count\": 2, \"extra_args\": \"\", \"sync\": true}</th>\n",
       "      <th>...</th>\n",
       "      <th>{\"image_name\": \"quay.io/coreos/etcd\", \"repeat\": 3, \"bench_type\": \"PutRange\", \"cluster_size\": 3, \"bencher_count\": 2, \"extra_args\": \"\", \"sync\": false}</th>\n",
       "      <th>{\"image_name\": \"jeffas/recetcd:latest\", \"repeat\": 1, \"bench_type\": \"PutRange\", \"cluster_size\": 5, \"bencher_count\": 2, \"extra_args\": \"\", \"sync\": true}</th>\n",
       "      <th>{\"image_name\": \"jeffas/recetcd:latest\", \"repeat\": 2, \"bench_type\": \"PutRange\", \"cluster_size\": 5, \"bencher_count\": 2, \"extra_args\": \"\", \"sync\": true}</th>\n",
       "      <th>{\"image_name\": \"jeffas/recetcd:latest\", \"repeat\": 3, \"bench_type\": \"PutRange\", \"cluster_size\": 5, \"bencher_count\": 2, \"extra_args\": \"\", \"sync\": true}</th>\n",
       "      <th>{\"image_name\": \"jeffas/recetcd:latest\", \"repeat\": 1, \"bench_type\": \"PutRange\", \"cluster_size\": 5, \"bencher_count\": 2, \"extra_args\": \"\", \"sync\": false}</th>\n",
       "      <th>{\"image_name\": \"jeffas/recetcd:latest\", \"repeat\": 2, \"bench_type\": \"PutRange\", \"cluster_size\": 5, \"bencher_count\": 2, \"extra_args\": \"\", \"sync\": false}</th>\n",
       "      <th>{\"image_name\": \"jeffas/recetcd:latest\", \"repeat\": 3, \"bench_type\": \"PutRange\", \"cluster_size\": 5, \"bencher_count\": 2, \"extra_args\": \"\", \"sync\": false}</th>\n",
       "      <th>{\"image_name\": \"jeffas/recetcd:latest\", \"repeat\": 1, \"bench_type\": \"PutRange\", \"cluster_size\": 1, \"bencher_count\": 2, \"extra_args\": \"\", \"sync\": true}</th>\n",
       "      <th>{\"image_name\": \"jeffas/recetcd:latest\", \"repeat\": 2, \"bench_type\": \"PutRange\", \"cluster_size\": 1, \"bencher_count\": 2, \"extra_args\": \"\", \"sync\": true}</th>\n",
       "      <th>{\"image_name\": \"jeffas/recetcd:latest\", \"repeat\": 3, \"bench_type\": \"PutRange\", \"cluster_size\": 1, \"bencher_count\": 2, \"extra_args\": \"\", \"sync\": true}</th>\n",
       "    </tr>\n",
       "  </thead>\n",
       "  <tbody>\n",
       "    <tr>\n",
       "      <th>count</th>\n",
       "      <td>200000.000000</td>\n",
       "      <td>200000.000000</td>\n",
       "      <td>200000.000000</td>\n",
       "      <td>200000.000000</td>\n",
       "      <td>200000.000000</td>\n",
       "      <td>200000.000000</td>\n",
       "      <td>200000.000000</td>\n",
       "      <td>200000.000000</td>\n",
       "      <td>200000.000000</td>\n",
       "      <td>200000.000000</td>\n",
       "      <td>...</td>\n",
       "      <td>200000.000000</td>\n",
       "      <td>200000.000000</td>\n",
       "      <td>200000.000000</td>\n",
       "      <td>200000.000000</td>\n",
       "      <td>200000.000000</td>\n",
       "      <td>200000.000000</td>\n",
       "      <td>200000.000000</td>\n",
       "      <td>200000.000000</td>\n",
       "      <td>200000.000000</td>\n",
       "      <td>200000.000000</td>\n",
       "    </tr>\n",
       "    <tr>\n",
       "      <th>mean</th>\n",
       "      <td>36.606813</td>\n",
       "      <td>36.369875</td>\n",
       "      <td>36.224149</td>\n",
       "      <td>21.187937</td>\n",
       "      <td>17.935702</td>\n",
       "      <td>21.838473</td>\n",
       "      <td>9.947552</td>\n",
       "      <td>231.229549</td>\n",
       "      <td>238.108550</td>\n",
       "      <td>9.857753</td>\n",
       "      <td>...</td>\n",
       "      <td>118.540433</td>\n",
       "      <td>22.902262</td>\n",
       "      <td>64.528743</td>\n",
       "      <td>7.100955</td>\n",
       "      <td>3.990001</td>\n",
       "      <td>4.241014</td>\n",
       "      <td>3.956083</td>\n",
       "      <td>33.877157</td>\n",
       "      <td>26.954312</td>\n",
       "      <td>27.358950</td>\n",
       "    </tr>\n",
       "    <tr>\n",
       "      <th>std</th>\n",
       "      <td>28.280390</td>\n",
       "      <td>26.722961</td>\n",
       "      <td>27.114573</td>\n",
       "      <td>6.340455</td>\n",
       "      <td>10.693754</td>\n",
       "      <td>10.294835</td>\n",
       "      <td>6.477721</td>\n",
       "      <td>434.274432</td>\n",
       "      <td>445.674808</td>\n",
       "      <td>6.219593</td>\n",
       "      <td>...</td>\n",
       "      <td>39.339803</td>\n",
       "      <td>45.780360</td>\n",
       "      <td>132.271075</td>\n",
       "      <td>6.626925</td>\n",
       "      <td>3.797943</td>\n",
       "      <td>4.110809</td>\n",
       "      <td>4.243377</td>\n",
       "      <td>14.199034</td>\n",
       "      <td>45.029987</td>\n",
       "      <td>44.709851</td>\n",
       "    </tr>\n",
       "    <tr>\n",
       "      <th>min</th>\n",
       "      <td>1.897000</td>\n",
       "      <td>1.880000</td>\n",
       "      <td>1.422000</td>\n",
       "      <td>0.787000</td>\n",
       "      <td>0.740000</td>\n",
       "      <td>0.815000</td>\n",
       "      <td>0.798000</td>\n",
       "      <td>0.802000</td>\n",
       "      <td>0.711000</td>\n",
       "      <td>0.830000</td>\n",
       "      <td>...</td>\n",
       "      <td>9.105000</td>\n",
       "      <td>0.714000</td>\n",
       "      <td>0.713000</td>\n",
       "      <td>0.740000</td>\n",
       "      <td>0.467000</td>\n",
       "      <td>0.481000</td>\n",
       "      <td>0.461000</td>\n",
       "      <td>3.507000</td>\n",
       "      <td>1.155000</td>\n",
       "      <td>1.238000</td>\n",
       "    </tr>\n",
       "    <tr>\n",
       "      <th>25%</th>\n",
       "      <td>16.529000</td>\n",
       "      <td>16.587750</td>\n",
       "      <td>16.283000</td>\n",
       "      <td>16.943000</td>\n",
       "      <td>12.944000</td>\n",
       "      <td>16.597000</td>\n",
       "      <td>5.756000</td>\n",
       "      <td>1.811000</td>\n",
       "      <td>1.804000</td>\n",
       "      <td>5.755750</td>\n",
       "      <td>...</td>\n",
       "      <td>87.006750</td>\n",
       "      <td>1.910000</td>\n",
       "      <td>2.799000</td>\n",
       "      <td>2.732000</td>\n",
       "      <td>1.482000</td>\n",
       "      <td>1.425000</td>\n",
       "      <td>1.316000</td>\n",
       "      <td>31.413000</td>\n",
       "      <td>22.260000</td>\n",
       "      <td>22.854000</td>\n",
       "    </tr>\n",
       "    <tr>\n",
       "      <th>50%</th>\n",
       "      <td>25.091000</td>\n",
       "      <td>25.654000</td>\n",
       "      <td>24.642000</td>\n",
       "      <td>21.764000</td>\n",
       "      <td>16.811000</td>\n",
       "      <td>21.171000</td>\n",
       "      <td>8.576000</td>\n",
       "      <td>2.463000</td>\n",
       "      <td>2.441000</td>\n",
       "      <td>8.569000</td>\n",
       "      <td>...</td>\n",
       "      <td>122.449500</td>\n",
       "      <td>3.341000</td>\n",
       "      <td>7.055000</td>\n",
       "      <td>4.553000</td>\n",
       "      <td>2.296000</td>\n",
       "      <td>2.189000</td>\n",
       "      <td>1.784000</td>\n",
       "      <td>33.440000</td>\n",
       "      <td>25.679000</td>\n",
       "      <td>26.017000</td>\n",
       "    </tr>\n",
       "    <tr>\n",
       "      <th>75%</th>\n",
       "      <td>40.590000</td>\n",
       "      <td>40.459000</td>\n",
       "      <td>40.383250</td>\n",
       "      <td>24.824000</td>\n",
       "      <td>20.809000</td>\n",
       "      <td>24.549000</td>\n",
       "      <td>12.260000</td>\n",
       "      <td>263.357250</td>\n",
       "      <td>281.144000</td>\n",
       "      <td>12.199000</td>\n",
       "      <td>...</td>\n",
       "      <td>146.014250</td>\n",
       "      <td>11.787000</td>\n",
       "      <td>41.854750</td>\n",
       "      <td>9.269000</td>\n",
       "      <td>5.226000</td>\n",
       "      <td>6.110000</td>\n",
       "      <td>5.313000</td>\n",
       "      <td>35.581000</td>\n",
       "      <td>29.297000</td>\n",
       "      <td>29.254000</td>\n",
       "    </tr>\n",
       "    <tr>\n",
       "      <th>max</th>\n",
       "      <td>166.413000</td>\n",
       "      <td>147.161000</td>\n",
       "      <td>137.927000</td>\n",
       "      <td>56.747000</td>\n",
       "      <td>229.551000</td>\n",
       "      <td>121.847000</td>\n",
       "      <td>68.374000</td>\n",
       "      <td>2554.668000</td>\n",
       "      <td>2556.725000</td>\n",
       "      <td>61.560000</td>\n",
       "      <td>...</td>\n",
       "      <td>301.911000</td>\n",
       "      <td>467.430000</td>\n",
       "      <td>1055.738000</td>\n",
       "      <td>64.908000</td>\n",
       "      <td>26.587000</td>\n",
       "      <td>35.668000</td>\n",
       "      <td>32.029000</td>\n",
       "      <td>1906.278000</td>\n",
       "      <td>1885.426000</td>\n",
       "      <td>1953.363000</td>\n",
       "    </tr>\n",
       "  </tbody>\n",
       "</table>\n",
       "<p>8 rows × 26 columns</p>\n",
       "</div>"
      ],
      "text/plain": [
       "       {\"image_name\": \"quay.io/coreos/etcd\", \"repeat\": 1, \"bench_type\": \"PutRange\", \"cluster_size\": 1, \"extra_args\": \"\", \"sync\": false}  \\\n",
       "count                                      200000.000000                                                                                  \n",
       "mean                                           36.606813                                                                                  \n",
       "std                                            28.280390                                                                                  \n",
       "min                                             1.897000                                                                                  \n",
       "25%                                            16.529000                                                                                  \n",
       "50%                                            25.091000                                                                                  \n",
       "75%                                            40.590000                                                                                  \n",
       "max                                           166.413000                                                                                  \n",
       "\n",
       "       {\"image_name\": \"quay.io/coreos/etcd\", \"repeat\": 2, \"bench_type\": \"PutRange\", \"cluster_size\": 1, \"extra_args\": \"\", \"sync\": false}  \\\n",
       "count                                      200000.000000                                                                                  \n",
       "mean                                           36.369875                                                                                  \n",
       "std                                            26.722961                                                                                  \n",
       "min                                             1.880000                                                                                  \n",
       "25%                                            16.587750                                                                                  \n",
       "50%                                            25.654000                                                                                  \n",
       "75%                                            40.459000                                                                                  \n",
       "max                                           147.161000                                                                                  \n",
       "\n",
       "       {\"image_name\": \"quay.io/coreos/etcd\", \"repeat\": 3, \"bench_type\": \"PutRange\", \"cluster_size\": 1, \"extra_args\": \"\", \"sync\": false}  \\\n",
       "count                                      200000.000000                                                                                  \n",
       "mean                                           36.224149                                                                                  \n",
       "std                                            27.114573                                                                                  \n",
       "min                                             1.422000                                                                                  \n",
       "25%                                            16.283000                                                                                  \n",
       "50%                                            24.642000                                                                                  \n",
       "75%                                            40.383250                                                                                  \n",
       "max                                           137.927000                                                                                  \n",
       "\n",
       "       {\"image_name\": \"jeffas/recetcd:latest\", \"repeat\": 1, \"bench_type\": \"PutRange\", \"cluster_size\": 1, \"extra_args\": \"\", \"sync\": false}  \\\n",
       "count                                      200000.000000                                                                                    \n",
       "mean                                           21.187937                                                                                    \n",
       "std                                             6.340455                                                                                    \n",
       "min                                             0.787000                                                                                    \n",
       "25%                                            16.943000                                                                                    \n",
       "50%                                            21.764000                                                                                    \n",
       "75%                                            24.824000                                                                                    \n",
       "max                                            56.747000                                                                                    \n",
       "\n",
       "       {\"image_name\": \"jeffas/recetcd:latest\", \"repeat\": 2, \"bench_type\": \"PutRange\", \"cluster_size\": 1, \"extra_args\": \"\", \"sync\": false}  \\\n",
       "count                                      200000.000000                                                                                    \n",
       "mean                                           17.935702                                                                                    \n",
       "std                                            10.693754                                                                                    \n",
       "min                                             0.740000                                                                                    \n",
       "25%                                            12.944000                                                                                    \n",
       "50%                                            16.811000                                                                                    \n",
       "75%                                            20.809000                                                                                    \n",
       "max                                           229.551000                                                                                    \n",
       "\n",
       "       {\"image_name\": \"jeffas/recetcd:latest\", \"repeat\": 3, \"bench_type\": \"PutRange\", \"cluster_size\": 1, \"extra_args\": \"\", \"sync\": false}  \\\n",
       "count                                      200000.000000                                                                                    \n",
       "mean                                           21.838473                                                                                    \n",
       "std                                            10.294835                                                                                    \n",
       "min                                             0.815000                                                                                    \n",
       "25%                                            16.597000                                                                                    \n",
       "50%                                            21.171000                                                                                    \n",
       "75%                                            24.549000                                                                                    \n",
       "max                                           121.847000                                                                                    \n",
       "\n",
       "       {\"image_name\": \"jeffas/recetcd:latest\", \"repeat\": 1, \"bench_type\": \"PutRange\", \"cluster_size\": 3, \"bencher_count\": 2, \"extra_args\": \"\", \"sync\": false}  \\\n",
       "count                                      200000.000000                                                                                                        \n",
       "mean                                            9.947552                                                                                                        \n",
       "std                                             6.477721                                                                                                        \n",
       "min                                             0.798000                                                                                                        \n",
       "25%                                             5.756000                                                                                                        \n",
       "50%                                             8.576000                                                                                                        \n",
       "75%                                            12.260000                                                                                                        \n",
       "max                                            68.374000                                                                                                        \n",
       "\n",
       "       {\"image_name\": \"jeffas/recetcd:latest\", \"repeat\": 2, \"bench_type\": \"PutRange\", \"cluster_size\": 3, \"bencher_count\": 2, \"extra_args\": \"\", \"sync\": false}  \\\n",
       "count                                      200000.000000                                                                                                        \n",
       "mean                                          231.229549                                                                                                        \n",
       "std                                           434.274432                                                                                                        \n",
       "min                                             0.802000                                                                                                        \n",
       "25%                                             1.811000                                                                                                        \n",
       "50%                                             2.463000                                                                                                        \n",
       "75%                                           263.357250                                                                                                        \n",
       "max                                          2554.668000                                                                                                        \n",
       "\n",
       "       {\"image_name\": \"jeffas/recetcd:latest\", \"repeat\": 3, \"bench_type\": \"PutRange\", \"cluster_size\": 3, \"bencher_count\": 2, \"extra_args\": \"\", \"sync\": true}  \\\n",
       "count                                      200000.000000                                                                                                       \n",
       "mean                                          238.108550                                                                                                       \n",
       "std                                           445.674808                                                                                                       \n",
       "min                                             0.711000                                                                                                       \n",
       "25%                                             1.804000                                                                                                       \n",
       "50%                                             2.441000                                                                                                       \n",
       "75%                                           281.144000                                                                                                       \n",
       "max                                          2556.725000                                                                                                       \n",
       "\n",
       "       {\"image_name\": \"jeffas/recetcd:latest\", \"repeat\": 1, \"bench_type\": \"PutRange\", \"cluster_size\": 3, \"bencher_count\": 2, \"extra_args\": \"\", \"sync\": true}  \\\n",
       "count                                      200000.000000                                                                                                       \n",
       "mean                                            9.857753                                                                                                       \n",
       "std                                             6.219593                                                                                                       \n",
       "min                                             0.830000                                                                                                       \n",
       "25%                                             5.755750                                                                                                       \n",
       "50%                                             8.569000                                                                                                       \n",
       "75%                                            12.199000                                                                                                       \n",
       "max                                            61.560000                                                                                                       \n",
       "\n",
       "       ...  \\\n",
       "count  ...   \n",
       "mean   ...   \n",
       "std    ...   \n",
       "min    ...   \n",
       "25%    ...   \n",
       "50%    ...   \n",
       "75%    ...   \n",
       "max    ...   \n",
       "\n",
       "       {\"image_name\": \"quay.io/coreos/etcd\", \"repeat\": 3, \"bench_type\": \"PutRange\", \"cluster_size\": 3, \"bencher_count\": 2, \"extra_args\": \"\", \"sync\": false}  \\\n",
       "count                                      200000.000000                                                                                                      \n",
       "mean                                          118.540433                                                                                                      \n",
       "std                                            39.339803                                                                                                      \n",
       "min                                             9.105000                                                                                                      \n",
       "25%                                            87.006750                                                                                                      \n",
       "50%                                           122.449500                                                                                                      \n",
       "75%                                           146.014250                                                                                                      \n",
       "max                                           301.911000                                                                                                      \n",
       "\n",
       "       {\"image_name\": \"jeffas/recetcd:latest\", \"repeat\": 1, \"bench_type\": \"PutRange\", \"cluster_size\": 5, \"bencher_count\": 2, \"extra_args\": \"\", \"sync\": true}  \\\n",
       "count                                      200000.000000                                                                                                       \n",
       "mean                                           22.902262                                                                                                       \n",
       "std                                            45.780360                                                                                                       \n",
       "min                                             0.714000                                                                                                       \n",
       "25%                                             1.910000                                                                                                       \n",
       "50%                                             3.341000                                                                                                       \n",
       "75%                                            11.787000                                                                                                       \n",
       "max                                           467.430000                                                                                                       \n",
       "\n",
       "       {\"image_name\": \"jeffas/recetcd:latest\", \"repeat\": 2, \"bench_type\": \"PutRange\", \"cluster_size\": 5, \"bencher_count\": 2, \"extra_args\": \"\", \"sync\": true}  \\\n",
       "count                                      200000.000000                                                                                                       \n",
       "mean                                           64.528743                                                                                                       \n",
       "std                                           132.271075                                                                                                       \n",
       "min                                             0.713000                                                                                                       \n",
       "25%                                             2.799000                                                                                                       \n",
       "50%                                             7.055000                                                                                                       \n",
       "75%                                            41.854750                                                                                                       \n",
       "max                                          1055.738000                                                                                                       \n",
       "\n",
       "       {\"image_name\": \"jeffas/recetcd:latest\", \"repeat\": 3, \"bench_type\": \"PutRange\", \"cluster_size\": 5, \"bencher_count\": 2, \"extra_args\": \"\", \"sync\": true}  \\\n",
       "count                                      200000.000000                                                                                                       \n",
       "mean                                            7.100955                                                                                                       \n",
       "std                                             6.626925                                                                                                       \n",
       "min                                             0.740000                                                                                                       \n",
       "25%                                             2.732000                                                                                                       \n",
       "50%                                             4.553000                                                                                                       \n",
       "75%                                             9.269000                                                                                                       \n",
       "max                                            64.908000                                                                                                       \n",
       "\n",
       "       {\"image_name\": \"jeffas/recetcd:latest\", \"repeat\": 1, \"bench_type\": \"PutRange\", \"cluster_size\": 5, \"bencher_count\": 2, \"extra_args\": \"\", \"sync\": false}  \\\n",
       "count                                      200000.000000                                                                                                        \n",
       "mean                                            3.990001                                                                                                        \n",
       "std                                             3.797943                                                                                                        \n",
       "min                                             0.467000                                                                                                        \n",
       "25%                                             1.482000                                                                                                        \n",
       "50%                                             2.296000                                                                                                        \n",
       "75%                                             5.226000                                                                                                        \n",
       "max                                            26.587000                                                                                                        \n",
       "\n",
       "       {\"image_name\": \"jeffas/recetcd:latest\", \"repeat\": 2, \"bench_type\": \"PutRange\", \"cluster_size\": 5, \"bencher_count\": 2, \"extra_args\": \"\", \"sync\": false}  \\\n",
       "count                                      200000.000000                                                                                                        \n",
       "mean                                            4.241014                                                                                                        \n",
       "std                                             4.110809                                                                                                        \n",
       "min                                             0.481000                                                                                                        \n",
       "25%                                             1.425000                                                                                                        \n",
       "50%                                             2.189000                                                                                                        \n",
       "75%                                             6.110000                                                                                                        \n",
       "max                                            35.668000                                                                                                        \n",
       "\n",
       "       {\"image_name\": \"jeffas/recetcd:latest\", \"repeat\": 3, \"bench_type\": \"PutRange\", \"cluster_size\": 5, \"bencher_count\": 2, \"extra_args\": \"\", \"sync\": false}  \\\n",
       "count                                      200000.000000                                                                                                        \n",
       "mean                                            3.956083                                                                                                        \n",
       "std                                             4.243377                                                                                                        \n",
       "min                                             0.461000                                                                                                        \n",
       "25%                                             1.316000                                                                                                        \n",
       "50%                                             1.784000                                                                                                        \n",
       "75%                                             5.313000                                                                                                        \n",
       "max                                            32.029000                                                                                                        \n",
       "\n",
       "       {\"image_name\": \"jeffas/recetcd:latest\", \"repeat\": 1, \"bench_type\": \"PutRange\", \"cluster_size\": 1, \"bencher_count\": 2, \"extra_args\": \"\", \"sync\": true}  \\\n",
       "count                                      200000.000000                                                                                                       \n",
       "mean                                           33.877157                                                                                                       \n",
       "std                                            14.199034                                                                                                       \n",
       "min                                             3.507000                                                                                                       \n",
       "25%                                            31.413000                                                                                                       \n",
       "50%                                            33.440000                                                                                                       \n",
       "75%                                            35.581000                                                                                                       \n",
       "max                                          1906.278000                                                                                                       \n",
       "\n",
       "       {\"image_name\": \"jeffas/recetcd:latest\", \"repeat\": 2, \"bench_type\": \"PutRange\", \"cluster_size\": 1, \"bencher_count\": 2, \"extra_args\": \"\", \"sync\": true}  \\\n",
       "count                                      200000.000000                                                                                                       \n",
       "mean                                           26.954312                                                                                                       \n",
       "std                                            45.029987                                                                                                       \n",
       "min                                             1.155000                                                                                                       \n",
       "25%                                            22.260000                                                                                                       \n",
       "50%                                            25.679000                                                                                                       \n",
       "75%                                            29.297000                                                                                                       \n",
       "max                                          1885.426000                                                                                                       \n",
       "\n",
       "       {\"image_name\": \"jeffas/recetcd:latest\", \"repeat\": 3, \"bench_type\": \"PutRange\", \"cluster_size\": 1, \"bencher_count\": 2, \"extra_args\": \"\", \"sync\": true}  \n",
       "count                                      200000.000000                                                                                                      \n",
       "mean                                           27.358950                                                                                                      \n",
       "std                                            44.709851                                                                                                      \n",
       "min                                             1.238000                                                                                                      \n",
       "25%                                            22.854000                                                                                                      \n",
       "50%                                            26.017000                                                                                                      \n",
       "75%                                            29.254000                                                                                                      \n",
       "max                                          1953.363000                                                                                                      \n",
       "\n",
       "[8 rows x 26 columns]"
      ]
     },
     "execution_count": 17,
     "metadata": {},
     "output_type": "execute_result"
    }
   ],
   "source": [
    "import pandas as pd\n",
    "\n",
    "l = {k:v[\"latencies\"] for (k,v) in timings.items()}\n",
    "\n",
    "series = pd.DataFrame(l)\n",
    "series.describe()"
   ]
  },
  {
   "cell_type": "code",
   "execution_count": null,
   "id": "stainless-power",
   "metadata": {},
   "outputs": [],
   "source": [
    "# latency scatter plots\n",
    "\n",
    "import numpy as np\n",
    "import matplotlib.pyplot as plt\n",
    "\n",
    "plt.rcParams.update({\n",
    "    \"text.usetex\": True,\n",
    "    \"font.family\": \"serif\",\n",
    "    \"font.size\": 12,\n",
    "})\n",
    "\n",
    "def plot_scatter(bench_type, cluster_size, show_sync = True):\n",
    "    f = plt.figure()\n",
    "    f.set_figwidth(6.4 * 1)\n",
    "    f.set_figheight(4.8 * 1)\n",
    "\n",
    "    for (k, v) in timings.items():\n",
    "        config = json.loads(k)\n",
    "        if config[\"bench_type\"] != bench_type:\n",
    "            continue\n",
    "\n",
    "        if config[\"cluster_size\"] == cluster_size:\n",
    "            if config[\"image_name\"] == \"quay.io/coreos/etcd\":\n",
    "                image = \"etcd\"\n",
    "            elif config[\"image_name\"] == \"jeffas/eckd\":\n",
    "                image = \"eckd\"\n",
    "            elif \"jeffas/recetcd\" in config[\"image_name\"]:\n",
    "                image = \"recetcd\"\n",
    "            else:\n",
    "                print(\"unmatched image name:\", config[\"image_name\"])\n",
    "\n",
    "            if \"--sync\" in config[\"extra_args\"] and not show_sync:\n",
    "                continue\n",
    "                \n",
    "            sync = \" sync\" if \"--sync\" in config[\"extra_args\"] else \"\"\n",
    "            \n",
    "            starts = v[\"starts\"]\n",
    "            start = starts[0]\n",
    "            starts = [(s - start) / timedelta(seconds=1) for s in starts]\n",
    "            latencies = v[\"latencies\"]\n",
    "\n",
    "            plt.scatter(starts, latencies, label=f\"{image} x{cluster_size}{sync}\")\n",
    "\n",
    "    plt.grid()\n",
    "    plt.title(f\"Latency Scatter ({bench_type})\")\n",
    "    plt.xlabel(\"Time from start (s)\")\n",
    "    plt.ylabel(\"Request duration (ms)\")\n",
    "    plt.legend()\n",
    "\n",
    "    lower_bench_type = bench_type.lower()\n",
    "    plt.savefig(f\"{exp_dir}/plots/latency-scatter-{lower_bench_type}.pdf\")"
   ]
  },
  {
   "cell_type": "code",
   "execution_count": null,
   "id": "cheap-anderson",
   "metadata": {
    "scrolled": true
   },
   "outputs": [],
   "source": [
    "plot_scatter(\"PutRange\", 1)"
   ]
  },
  {
   "cell_type": "code",
   "execution_count": null,
   "id": "incredible-pathology",
   "metadata": {
    "scrolled": true
   },
   "outputs": [],
   "source": [
    "plot_scatter(\"PutSingle\", 1)"
   ]
  },
  {
   "cell_type": "code",
   "execution_count": null,
   "id": "everyday-mumbai",
   "metadata": {
    "scrolled": true
   },
   "outputs": [],
   "source": [
    "plot_scatter(\"PutRandom\", 1)"
   ]
  },
  {
   "cell_type": "code",
   "execution_count": null,
   "id": "vulnerable-wales",
   "metadata": {
    "scrolled": true
   },
   "outputs": [],
   "source": [
    "plot_scatter(\"PutRange\", 3, show_sync=False)"
   ]
  },
  {
   "cell_type": "code",
   "execution_count": null,
   "id": "optimum-alloy",
   "metadata": {
    "scrolled": true
   },
   "outputs": [],
   "source": [
    "plot_scatter(\"PutSingle\", 3)"
   ]
  },
  {
   "cell_type": "code",
   "execution_count": null,
   "id": "talented-bankruptcy",
   "metadata": {
    "scrolled": true
   },
   "outputs": [],
   "source": [
    "plot_scatter(\"PutRandom\", 3)"
   ]
  },
  {
   "cell_type": "code",
   "execution_count": null,
   "id": "cultural-helena",
   "metadata": {
    "scrolled": true
   },
   "outputs": [],
   "source": [
    "plot_scatter(\"PutRange\", 5)"
   ]
  },
  {
   "cell_type": "code",
   "execution_count": null,
   "id": "undefined-bronze",
   "metadata": {
    "scrolled": true
   },
   "outputs": [],
   "source": [
    "plot_scatter(\"PutSingle\", 5)"
   ]
  },
  {
   "cell_type": "code",
   "execution_count": null,
   "id": "popular-column",
   "metadata": {
    "scrolled": true
   },
   "outputs": [],
   "source": [
    "plot_scatter(\"PutRandom\", 5)"
   ]
  },
  {
   "cell_type": "code",
   "execution_count": 19,
   "id": "described-memory",
   "metadata": {
    "scrolled": true
   },
   "outputs": [],
   "source": [
    "# latency cdfs plots\n",
    "\n",
    "import numpy as np\n",
    "import matplotlib.pyplot as plt\n",
    "\n",
    "plt.rcParams.update({\n",
    "    \"text.usetex\": True,\n",
    "    \"font.family\": \"serif\",\n",
    "    \"font.size\": 12,\n",
    "})\n",
    "\n",
    "def plot_cdf(bench_type, cluster_size, show_sync = True):\n",
    "    f = plt.figure()\n",
    "    f.set_figwidth(6.4 * 1)\n",
    "    f.set_figheight(4.8 * 1)\n",
    "\n",
    "    for (k, v) in timings.items():\n",
    "        config = json.loads(k)\n",
    "        if config[\"bench_type\"] != bench_type:\n",
    "            continue\n",
    "\n",
    "        if config[\"cluster_size\"] == cluster_size:\n",
    "            if config[\"image_name\"] == \"quay.io/coreos/etcd\":\n",
    "                image = \"etcd\"\n",
    "            elif config[\"image_name\"] == \"jeffas/eckd\":\n",
    "                image = \"eckd\"\n",
    "            elif \"jeffas/recetcd\" in config[\"image_name\"]:\n",
    "                image = \"recetcd\"\n",
    "            else:\n",
    "                print(\"unmatched image name:\", config[\"image_name\"])\n",
    "                \n",
    "            sync = config[\"sync\"]\n",
    "\n",
    "            if sync and not show_sync:\n",
    "                continue\n",
    "\n",
    "            latencies = v[\"latencies\"]\n",
    "            latencies.sort()\n",
    "            size = len(latencies)\n",
    "            ys = np.array(range(size))/ float(size)\n",
    "            \n",
    "            sync_string = \" sync\" if sync else \"\"\n",
    "\n",
    "            plt.plot(latencies, ys, label=f\"{image} x{cluster_size}{sync_string}\")\n",
    "\n",
    "    plt.grid()\n",
    "    plt.title(f\"Latency CDF ({bench_type})\")\n",
    "    plt.xlabel(\"Request duration (ms)\")\n",
    "    plt.ylabel(\"Probability\")\n",
    "    plt.legend()\n",
    "\n",
    "    lower_bench_type = bench_type.lower()\n",
    "    plt.savefig(f\"{exp_dir}/plots/latency-cdf-{lower_bench_type}.pdf\")"
   ]
  },
  {
   "cell_type": "code",
   "execution_count": 20,
   "id": "liable-still",
   "metadata": {},
   "outputs": [
    {
     "data": {
      "image/png": "[encoded data removed]",
      "text/plain": [
       "<Figure size 460.8x345.6 with 1 Axes>"
      ]
     },
     "metadata": {
      "needs_background": "light"
     },
     "output_type": "display_data"
    }
   ],
   "source": [
    "plot_cdf(\"PutRange\", 1)"
   ]
  },
  {
   "cell_type": "code",
   "execution_count": null,
   "id": "radical-hudson",
   "metadata": {
    "scrolled": true
   },
   "outputs": [],
   "source": [
    "plot_cdf(\"PutSingle\", 1)"
   ]
  },
  {
   "cell_type": "code",
   "execution_count": null,
   "id": "persistent-coaching",
   "metadata": {},
   "outputs": [],
   "source": [
    "plot_cdf(\"PutRandom\", 1)"
   ]
  },
  {
   "cell_type": "code",
   "execution_count": 22,
   "id": "other-airport",
   "metadata": {},
   "outputs": [
    {
     "data": {
      "image/png": "[encoded data removed]",
      "text/plain": [
       "<Figure size 460.8x345.6 with 1 Axes>"
      ]
     },
     "metadata": {
      "needs_background": "light"
     },
     "output_type": "display_data"
    }
   ],
   "source": [
    "plot_cdf(\"PutRange\", 3)"
   ]
  },
  {
   "cell_type": "code",
   "execution_count": null,
   "id": "stuck-speed",
   "metadata": {
    "scrolled": true
   },
   "outputs": [],
   "source": [
    "plot_cdf(\"PutSingle\", 3, show_sync = False)"
   ]
  },
  {
   "cell_type": "code",
   "execution_count": null,
   "id": "centered-domestic",
   "metadata": {},
   "outputs": [],
   "source": [
    "plot_cdf(\"PutRandom\", 3, show_sync = False)"
   ]
  },
  {
   "cell_type": "code",
   "execution_count": 23,
   "id": "pacific-scenario",
   "metadata": {},
   "outputs": [
    {
     "data": {
      "image/png": "[encoded data removed]",
      "text/plain": [
       "<Figure size 460.8x345.6 with 1 Axes>"
      ]
     },
     "metadata": {
      "needs_background": "light"
     },
     "output_type": "display_data"
    }
   ],
   "source": [
    "plot_cdf(\"PutRange\", 5)"
   ]
  },
  {
   "cell_type": "code",
   "execution_count": null,
   "id": "grand-transition",
   "metadata": {
    "scrolled": true
   },
   "outputs": [],
   "source": [
    "plot_cdf(\"PutSingle\", 5)"
   ]
  },
  {
   "cell_type": "code",
   "execution_count": null,
   "id": "ultimate-cause",
   "metadata": {
    "scrolled": true
   },
   "outputs": [],
   "source": [
    "plot_cdf(\"PutRandom\", 5)"
   ]
  },
  {
   "cell_type": "code",
   "execution_count": 33,
   "id": "283ac2ca",
   "metadata": {},
   "outputs": [],
   "source": [
    "# plot percentile latencies of datastores at differing cluster sizes\n",
    "\n",
    "import numpy as np\n",
    "import matplotlib.pyplot as plt\n",
    "\n",
    "plt.rcParams.update({\n",
    "    \"text.usetex\": True,\n",
    "    \"font.family\": \"serif\",\n",
    "    \"font.size\": 12,\n",
    "})\n",
    "\n",
    "def plot_latency_percentiles(bench_type, percentiles=[50]):\n",
    "    f = plt.figure()\n",
    "    f.set_figwidth(6.4 * 1)\n",
    "    f.set_figheight(4.8 * 1)\n",
    "    \n",
    "    ls = {} # mapping from legend item to list of datapoints\n",
    "\n",
    "    for (k, v) in timings.items():\n",
    "        config = json.loads(k)\n",
    "        cluster_size = config[\"cluster_size\"]\n",
    "        if config[\"image_name\"] == \"quay.io/coreos/etcd\":\n",
    "            image = \"etcd\"\n",
    "        elif config[\"image_name\"] == \"jeffas/eckd\":\n",
    "            image = \"eckd\"\n",
    "        elif \"jeffas/recetcd\" in config[\"image_name\"]:\n",
    "            image = \"recetcd\"\n",
    "        else:\n",
    "            print(\"unmatched image name:\", config[\"image_name\"])\n",
    "            \n",
    "        sync = config[\"sync\"]\n",
    "        \n",
    "        latencies = v[\"latencies\"]\n",
    "        \n",
    "        if sync:\n",
    "            image += \"-sync\"\n",
    "        \n",
    "        if image not in ls:\n",
    "            ls[image] = {}\n",
    "        if cluster_size not in ls[image]:\n",
    "            ls[image][cluster_size] = []\n",
    "        ls[image][cluster_size] += latencies\n",
    "            \n",
    "    \n",
    "    meds = defaultdict(list)\n",
    "    for (image, sizes) in ls.items():\n",
    "        for (size, latencies) in sizes.items():\n",
    "            med = np.percentile(latencies, percentiles)\n",
    "            meds[image].append((size, med[0]))\n",
    "            \n",
    "    for (image, axes) in meds.items():\n",
    "        axes.sort(key=lambda t: t[0])\n",
    "        xs, ys = [[ i for i, j in axes ], [ j for i, j in axes ]]\n",
    "        plt.plot(xs, ys, label=f\"{image}\")\n",
    "\n",
    "    plt.grid()\n",
    "    plt.title(f\"Latency Percentiles ({bench_type})\")\n",
    "    plt.ylabel(\"Median Request duration (ms)\")\n",
    "    plt.xlabel(\"Cluster size\")\n",
    "    plt.legend()\n",
    "\n",
    "    lower_bench_type = bench_type.lower()\n",
    "    plt.savefig(f\"{exp_dir}/plots/latency-percentiles-{lower_bench_type}.pdf\")"
   ]
  },
  {
   "cell_type": "code",
   "execution_count": 34,
   "id": "848a2922",
   "metadata": {},
   "outputs": [
    {
     "name": "stdout",
     "output_type": "stream",
     "text": [
      "False\n",
      "False\n",
      "False\n",
      "False\n",
      "False\n",
      "False\n",
      "False\n",
      "False\n",
      "True\n",
      "True\n",
      "True\n",
      "False\n",
      "False\n",
      "False\n",
      "false\n",
      "false\n",
      "False\n",
      "True\n",
      "True\n",
      "True\n",
      "False\n",
      "False\n",
      "False\n",
      "True\n",
      "True\n",
      "True\n"
     ]
    },
    {
     "data": {
      "image/png": "[encoded data removed]",
      "text/plain": [
       "<Figure size 460.8x345.6 with 1 Axes>"
      ]
     },
     "metadata": {
      "needs_background": "light"
     },
     "output_type": "display_data"
    }
   ],
   "source": [
    "plot_latency_percentiles(\"PutRange\")"
   ]
  },
  {
   "cell_type": "code",
   "execution_count": 35,
   "id": "29385af1",
   "metadata": {},
   "outputs": [
    {
     "name": "stdout",
     "output_type": "stream",
     "text": [
      "False\n",
      "False\n",
      "False\n",
      "False\n",
      "False\n",
      "False\n",
      "False\n",
      "False\n",
      "True\n",
      "True\n",
      "True\n",
      "False\n",
      "False\n",
      "False\n",
      "false\n",
      "false\n",
      "False\n",
      "True\n",
      "True\n",
      "True\n",
      "False\n",
      "False\n",
      "False\n",
      "True\n",
      "True\n",
      "True\n"
     ]
    },
    {
     "data": {
      "image/png": "[encoded data removed]",
      "text/plain": [
       "<Figure size 460.8x345.6 with 1 Axes>"
      ]
     },
     "metadata": {
      "needs_background": "light"
     },
     "output_type": "display_data"
    }
   ],
   "source": [
    "plot_latency_percentiles(\"PutRange\", percentiles = [90])"
   ]
  },
  {
   "cell_type": "code",
   "execution_count": null,
   "id": "biological-thermal",
   "metadata": {},
   "outputs": [],
   "source": [
    "# get cpu and mem data\n",
    "\n",
    "import json\n",
    "from collections import defaultdict\n",
    "from datetime import datetime, timezone, timedelta\n",
    "\n",
    "cpu_usage = {} # mapping from config json to cpu usage list\n",
    "mem_usage = {} # mapping from config json to mem usage list\n",
    "\n",
    "for config in config_dirs:\n",
    "    print(\"processing\", config)\n",
    "    c = json.dumps(json.loads(\"\".join(open(f\"{exp_dir}/{config}/configuration.json\").readlines())))\n",
    "\n",
    "    for repeat in os.listdir(f\"{exp_dir}/{config}\"):\n",
    "        if repeat.startswith(\"repeat\"):\n",
    "            with open(f\"{exp_dir}/{config}/{repeat}/logs/docker-bench.log\", \"r\") as log:\n",
    "                for line in log.readlines():\n",
    "                    j = line.split()[1]\n",
    "                    try:\n",
    "                        output = json.loads(j)\n",
    "                    except ValueError:\n",
    "                        continue\n",
    "\n",
    "                    start_secs = output[\"start\"][\"secs_since_epoch\"]\n",
    "                    start_nanos = output[\"start\"][\"nanos_since_epoch\"]\n",
    "                    start = datetime(1970, 1, 1) + timedelta(seconds=start_secs,microseconds=start_nanos/1000)\n",
    "                    break\n",
    "                    \n",
    "            # read metrics of node*\n",
    "            with open(f\"{exp_dir}/{config}/{repeat}/metrics/docker-node1.stat\", \"r\") as stats:\n",
    "                times = []\n",
    "                cpus = []\n",
    "                mems = []\n",
    "                for line in stats.readlines():\n",
    "                    sp = line.split()\n",
    "                    \n",
    "                    dt = sp[0]\n",
    "                    dt = dt.replace(\"+00:00\",\"\")\n",
    "                    dot = dt.find(\".\")\n",
    "        \n",
    "                    dt = datetime.fromisoformat(dt[:dot+7])\n",
    "             \n",
    "                    times.append(dt-start)\n",
    "                    j = sp[1]\n",
    "                    \n",
    "                    output = json.loads(j)\n",
    "                    \n",
    "                    # from https://github.com/docker/cli/blob/bf4a96e5640f86860e68622d2498039d86bf5714/cli/command/container/stats_helpers.go#L166\n",
    "                    cpu_percent = 0\n",
    "                    cpu_delta = output[\"cpu_stats\"][\"cpu_usage\"][\"total_usage\"] - output[\"precpu_stats\"][\"cpu_usage\"][\"total_usage\"]\n",
    "                    system_delta = output[\"cpu_stats\"][\"system_cpu_usage\"] - (output[\"precpu_stats\"][\"system_cpu_usage\"] or 0)\n",
    "                    online_cpus = output[\"cpu_stats\"][\"online_cpus\"]\n",
    "                    if online_cpus == 0:\n",
    "                        print(\"no cpus!!\")\n",
    "                    if system_delta > 0 and cpu_delta > 0:\n",
    "                        cpu_percent = (float(cpu_delta) / float(system_delta)) * float(online_cpus) * 100.0\n",
    "                    cpus.append(cpu_percent)\n",
    "                    \n",
    "                    \n",
    "                    mem = output[\"memory_stats\"][\"usage\"]\n",
    "                    mems.append(mem)\n",
    "                \n",
    "                cpu_usage[c] = (times, cpus)\n",
    "                mem_usage[c] = (times, mems)"
   ]
  },
  {
   "cell_type": "code",
   "execution_count": null,
   "id": "historic-theorem",
   "metadata": {},
   "outputs": [],
   "source": [
    "# cpu usage plots\n",
    "\n",
    "import numpy as np\n",
    "import matplotlib.pyplot as plt\n",
    "\n",
    "plt.rcParams.update({\n",
    "    \"text.usetex\": True,\n",
    "    \"font.family\": \"serif\",\n",
    "    \"font.size\": 12,\n",
    "})\n",
    "\n",
    "def plot_cpu(bench_type, cluster_size):\n",
    "\n",
    "    f = plt.figure()\n",
    "    f.set_figwidth(6.4 * 1)\n",
    "    f.set_figheight(4.8 * 1)\n",
    "\n",
    "    for (k, v) in cpu_usage.items():\n",
    "        config = json.loads(k)\n",
    "        if config[\"bench_type\"] != bench_type:\n",
    "            continue\n",
    "\n",
    "        if config[\"cluster_size\"] == cluster_size:\n",
    "            if config[\"image_name\"] == \"quay.io/coreos/etcd\":\n",
    "                image = \"etcd\"\n",
    "            elif config[\"image_name\"] == \"jeffas/eckd\":\n",
    "                image = \"eckd\"\n",
    "            elif config[\"image_name\"] == \"jeffas/recetcd\":\n",
    "                image = \"recetcd\"\n",
    "            else:\n",
    "                print(\"unmatched image name:\", config[\"image_name\"])\n",
    "\n",
    "            sync = \" sync\" if \"--sync\" in config[\"extra_args\"] else \"\"\n",
    "\n",
    "            xs = [x.total_seconds() for x in v[0]]\n",
    "            ys = v[1]\n",
    "\n",
    "            plt.plot(xs, ys, label=f\"{image} x{cluster_size}{sync}\")\n",
    "\n",
    "    plt.grid()\n",
    "    plt.title(f\"CPU Usage ({bench_type})\")\n",
    "    plt.xlabel(\"Time since start (s)\")\n",
    "    plt.ylabel(\"CPU usage (\\%)\")\n",
    "    plt.legend()\n",
    "\n",
    "    lower_bench_type = bench_type.lower()\n",
    "    plt.savefig(f\"{exp_dir}/plots/cpu-usage-{lower_bench_type}.pdf\")"
   ]
  },
  {
   "cell_type": "code",
   "execution_count": null,
   "id": "prerequisite-father",
   "metadata": {
    "scrolled": true
   },
   "outputs": [],
   "source": [
    "plot_cpu(\"PutRange\", 1)"
   ]
  },
  {
   "cell_type": "code",
   "execution_count": null,
   "id": "strategic-launch",
   "metadata": {},
   "outputs": [],
   "source": [
    "plot_cpu(\"PutSingle\", 1)"
   ]
  },
  {
   "cell_type": "code",
   "execution_count": null,
   "id": "stuck-weight",
   "metadata": {
    "scrolled": true
   },
   "outputs": [],
   "source": [
    "plot_cpu(\"PutRandom\", 1)"
   ]
  },
  {
   "cell_type": "code",
   "execution_count": null,
   "id": "hazardous-farming",
   "metadata": {
    "scrolled": true
   },
   "outputs": [],
   "source": [
    "plot_cpu(\"PutRange\", 3)"
   ]
  },
  {
   "cell_type": "code",
   "execution_count": null,
   "id": "continuous-configuration",
   "metadata": {},
   "outputs": [],
   "source": [
    "plot_cpu(\"PutSingle\", 3)"
   ]
  },
  {
   "cell_type": "code",
   "execution_count": null,
   "id": "prepared-garbage",
   "metadata": {},
   "outputs": [],
   "source": [
    "plot_cpu(\"PutRandom\", 3)"
   ]
  },
  {
   "cell_type": "code",
   "execution_count": null,
   "id": "statistical-garlic",
   "metadata": {
    "scrolled": true
   },
   "outputs": [],
   "source": [
    "plot_cpu(\"PutRange\", 5)"
   ]
  },
  {
   "cell_type": "code",
   "execution_count": null,
   "id": "engaging-polymer",
   "metadata": {},
   "outputs": [],
   "source": [
    "plot_cpu(\"PutSingle\", 5)"
   ]
  },
  {
   "cell_type": "code",
   "execution_count": null,
   "id": "superb-weekly",
   "metadata": {},
   "outputs": [],
   "source": [
    "plot_cpu(\"PutRandom\", 5)"
   ]
  },
  {
   "cell_type": "code",
   "execution_count": null,
   "id": "sixth-andorra",
   "metadata": {},
   "outputs": [],
   "source": [
    "# mem usage plots\n",
    "\n",
    "import numpy as np\n",
    "import matplotlib.pyplot as plt\n",
    "\n",
    "plt.rcParams.update({\n",
    "    \"text.usetex\": True,\n",
    "    \"font.family\": \"serif\",\n",
    "    \"font.size\": 12,\n",
    "})\n",
    "\n",
    "def plot_mem(bench_type, cluster_size):\n",
    "    f = plt.figure()\n",
    "    f.set_figwidth(6.4 * 1)\n",
    "    f.set_figheight(4.8 * 1)\n",
    "\n",
    "    for (k, v) in mem_usage.items():\n",
    "        config = json.loads(k)\n",
    "        if config[\"bench_type\"] != bench_type:\n",
    "            continue\n",
    "\n",
    "        if config[\"cluster_size\"] == cluster_size:\n",
    "            if config[\"image_name\"] == \"quay.io/coreos/etcd\":\n",
    "                image = \"etcd\"\n",
    "            elif config[\"image_name\"] == \"jeffas/eckd\":\n",
    "                image = \"eckd\"\n",
    "            elif config[\"image_name\"] == \"jeffas/recetcd\":\n",
    "                image = \"recetcd\"\n",
    "            else:\n",
    "                print(\"unmatched image name:\", config[\"image_name\"])\n",
    "\n",
    "            sync = \" sync\" if \"--sync\" in config[\"extra_args\"] else \"\"\n",
    "\n",
    "            xs = [x.total_seconds() for x in v[0]]\n",
    "            ys = np.array(v[1]) / 1_000_000\n",
    "\n",
    "            plt.plot(xs, ys, label=f\"{image} x{cluster_size}{sync}\")\n",
    "\n",
    "    plt.grid()\n",
    "    plt.title(f\"Memory Usage ({bench_type})\")\n",
    "    plt.xlabel(\"Time since start (s)\")\n",
    "    plt.ylabel(\"Memory usage (MB)\")\n",
    "    plt.legend()\n",
    "\n",
    "    lower_bench_type = bench_type.lower()\n",
    "    plt.savefig(f\"{exp_dir}/plots/mem-usage-{lower_bench_type}.pdf\")"
   ]
  },
  {
   "cell_type": "code",
   "execution_count": null,
   "id": "exclusive-acrobat",
   "metadata": {},
   "outputs": [],
   "source": [
    "plot_mem(\"PutRange\", 1)"
   ]
  },
  {
   "cell_type": "code",
   "execution_count": null,
   "id": "moral-costume",
   "metadata": {},
   "outputs": [],
   "source": [
    "plot_mem(\"PutSingle\", 1)"
   ]
  },
  {
   "cell_type": "code",
   "execution_count": null,
   "id": "posted-christianity",
   "metadata": {},
   "outputs": [],
   "source": [
    "plot_mem(\"PutRandom\", 1)"
   ]
  },
  {
   "cell_type": "code",
   "execution_count": null,
   "id": "excessive-radius",
   "metadata": {},
   "outputs": [],
   "source": [
    "plot_mem(\"PutRange\", 3)"
   ]
  },
  {
   "cell_type": "code",
   "execution_count": null,
   "id": "industrial-rugby",
   "metadata": {},
   "outputs": [],
   "source": [
    "plot_mem(\"PutSingle\", 3)"
   ]
  },
  {
   "cell_type": "code",
   "execution_count": null,
   "id": "practical-batch",
   "metadata": {},
   "outputs": [],
   "source": [
    "plot_mem(\"PutRandom\", 3)"
   ]
  },
  {
   "cell_type": "code",
   "execution_count": null,
   "id": "listed-evanescence",
   "metadata": {},
   "outputs": [],
   "source": [
    "plot_mem(\"PutRange\", 5)"
   ]
  },
  {
   "cell_type": "code",
   "execution_count": null,
   "id": "heated-official",
   "metadata": {},
   "outputs": [],
   "source": [
    "plot_mem(\"PutSingle\", 5)"
   ]
  },
  {
   "cell_type": "code",
   "execution_count": null,
   "id": "solid-typing",
   "metadata": {},
   "outputs": [],
   "source": [
    "plot_mem(\"PutRandom\", 5)"
   ]
  }
 ],
 "metadata": {
  "kernelspec": {
   "display_name": "Python 3",
   "language": "python",
   "name": "python3"
  },
  "language_info": {
   "codemirror_mode": {
    "name": "ipython",
    "version": 3
   },
   "file_extension": ".py",
   "mimetype": "text/x-python",
   "name": "python",
   "nbconvert_exporter": "python",
   "pygments_lexer": "ipython3",
   "version": "3.9.6"
  }
 },
 "nbformat": 4,
 "nbformat_minor": 5
}
