{
 "cells": [
  {
   "cell_type": "code",
   "execution_count": 2,
   "id": "f47696e5",
   "metadata": {},
   "outputs": [],
   "source": [
    "import os\n",
    "\n",
    "exp_dir = f\"results/\"\n",
    "\n",
    "os.makedirs(f\"{exp_dir}/plots\", exist_ok=True)"
   ]
  },
  {
   "cell_type": "code",
   "execution_count": 6,
   "id": "abstract-story",
   "metadata": {},
   "outputs": [
    {
     "name": "stdout",
     "output_type": "stream",
     "text": [
      "recetcd-3nodes-2benchers\n",
      "datapoints: 200000\n",
      "etcd-3nodes-2benchers\n",
      "datapoints: 200000\n",
      "loaded 2\n"
     ]
    }
   ],
   "source": [
    "# latency cdfs data\n",
    "\n",
    "import json\n",
    "from collections import defaultdict\n",
    "from datetime import datetime, timezone, timedelta\n",
    "\n",
    "timings = defaultdict(lambda: defaultdict(list)) # mapping from config json to latency list\n",
    "\n",
    "for config_dir in os.listdir(exp_dir):    \n",
    "    if config_dir == \"plots\":\n",
    "        continue\n",
    "    print(config_dir)\n",
    "    \n",
    "    # read in configuration.json file and parse\n",
    "    with open(f\"{exp_dir}/{config_dir}/configuration.json\", \"r\") as config_file:\n",
    "        config = config_file.read()\n",
    "        config = json.dumps(json.loads(config))\n",
    "    \n",
    "#     for repeat in os.listdir(config):\n",
    "#     if repeat.startswith(\"repeat\"): \n",
    "    # read logs of docker-bench\n",
    "    for bencher in os.listdir(f\"{exp_dir}/{config_dir}/logs\"):\n",
    "        if bencher.startswith(\"bencher\"):\n",
    "            with open(f\"{exp_dir}/{config_dir}/logs/{bencher}\", \"r\") as log:\n",
    "                for line in log.readlines():\n",
    "                    j = line\n",
    "                    try:\n",
    "                        output = json.loads(j)\n",
    "                    except ValueError:\n",
    "                        continue\n",
    "\n",
    "                    start_secs = output[\"start\"][\"secs_since_epoch\"]\n",
    "                    start_nanos = output[\"start\"][\"nanos_since_epoch\"]\n",
    "                    start = datetime(1970, 1, 1, tzinfo=timezone.utc) + timedelta(seconds=start_secs,microseconds=start_nanos/1000)\n",
    "\n",
    "                    end_secs = output[\"end\"][\"secs_since_epoch\"]\n",
    "                    end_nanos = output[\"end\"][\"nanos_since_epoch\"]\n",
    "                    end = datetime(1970, 1, 1, tzinfo=timezone.utc) + timedelta(seconds=end_secs,microseconds=end_nanos/1000)\n",
    "\n",
    "                    latency = end - start\n",
    "                    timings[config][\"starts\"].append(start)\n",
    "                    timings[config][\"ends\"].append(end)\n",
    "                    timings[config][\"latencies\"].append((latency / timedelta(microseconds=1))/1000.)\n",
    "    print(\"datapoints:\", len(timings[config][\"latencies\"]))\n",
    "print(\"loaded\", len(timings))"
   ]
  },
  {
   "cell_type": "code",
   "execution_count": 9,
   "id": "d21a71fa",
   "metadata": {},
   "outputs": [
    {
     "name": "stdout",
     "output_type": "stream",
     "text": [
      "{\"image_name\": \"jeffas/recetcd:latest\", \"bench_type\": \"PutRange\", \"cluster_size\": 3, \"extra_args\": \"\"}\n",
      "Latencies\n",
      "count    200000.000000\n",
      "mean          5.952435\n",
      "std           3.538306\n",
      "min           0.489000\n",
      "25%           3.405000\n",
      "50%           5.463000\n",
      "75%           7.530000\n",
      "max          24.469000\n",
      "dtype: float64\n",
      "\n",
      "{\"image_name\": \"quay.io/coreos/etcd\", \"bench_type\": \"PutRange\", \"cluster_size\": 3, \"extra_args\": \"\"}\n",
      "Latencies\n",
      "count    200000.000000\n",
      "mean        118.222689\n",
      "std          38.004899\n",
      "min          10.370000\n",
      "25%          87.346750\n",
      "50%         123.266000\n",
      "75%         145.287250\n",
      "max         274.357000\n",
      "dtype: float64\n",
      "\n"
     ]
    }
   ],
   "source": [
    "import pandas as pd\n",
    "\n",
    "for (k, v) in timings.items():\n",
    "    print(k)\n",
    "    print(\"Latencies\")\n",
    "    series = pd.Series(v[\"latencies\"])\n",
    "    print(series.describe())\n",
    "    print()"
   ]
  },
  {
   "cell_type": "code",
   "execution_count": 35,
   "id": "stainless-power",
   "metadata": {},
   "outputs": [],
   "source": [
    "# latency scatter plots\n",
    "\n",
    "import numpy as np\n",
    "import matplotlib.pyplot as plt\n",
    "\n",
    "plt.rcParams.update({\n",
    "    \"text.usetex\": True,\n",
    "    \"font.family\": \"serif\",\n",
    "    \"font.size\": 12,\n",
    "})\n",
    "\n",
    "def plot_scatter(bench_type, cluster_size, show_sync = True):\n",
    "    f = plt.figure()\n",
    "    f.set_figwidth(6.4 * 1)\n",
    "    f.set_figheight(4.8 * 1)\n",
    "\n",
    "    for (k, v) in timings.items():\n",
    "        config = json.loads(k)\n",
    "        if config[\"bench_type\"] != bench_type:\n",
    "            print(\"Skipping\", config[\"bench_type\"])\n",
    "            continue\n",
    "\n",
    "        if config[\"cluster_size\"] == cluster_size:\n",
    "            if config[\"image_name\"] == \"quay.io/coreos/etcd\":\n",
    "                image = \"etcd\"\n",
    "            elif config[\"image_name\"] == \"jeffas/eckd\":\n",
    "                image = \"eckd\"\n",
    "            elif \"jeffas/recetcd\" in config[\"image_name\"]:\n",
    "                image = \"recetcd\"\n",
    "            else:\n",
    "                print(\"unmatched image name:\", config[\"image_name\"])\n",
    "\n",
    "            if \"--sync\" in config[\"extra_args\"] and not show_sync:\n",
    "                continue\n",
    "                \n",
    "            sync = \" sync\" if \"--sync\" in config[\"extra_args\"] else \"\"\n",
    "            \n",
    "            starts = v[\"starts\"]\n",
    "            start = starts[0]\n",
    "            starts = [(s - start) / timedelta(seconds=1) for s in starts]\n",
    "            latencies = v[\"latencies\"]\n",
    "\n",
    "            plt.scatter(starts, latencies, label=f\"{image} x{cluster_size}{sync}\")\n",
    "\n",
    "    plt.grid()\n",
    "    plt.title(f\"Latency Scatter ({bench_type})\")\n",
    "    plt.xlabel(\"Time from start (s)\")\n",
    "    plt.ylabel(\"Request duration (ms)\")\n",
    "    plt.legend()\n",
    "\n",
    "    lower_bench_type = bench_type.lower()\n",
    "    plt.savefig(f\"{exp_dir}/plots/latency-scatter-{lower_bench_type}.pdf\")"
   ]
  },
  {
   "cell_type": "code",
   "execution_count": 30,
   "id": "cheap-anderson",
   "metadata": {
    "scrolled": true
   },
   "outputs": [
    {
     "name": "stderr",
     "output_type": "stream",
     "text": [
      "No handles with labels found to put in legend.\n"
     ]
    },
    {
     "data": {
      "image/png": "[encoded data removed]",
      "text/plain": [
       "<Figure size 460.8x345.6 with 1 Axes>"
      ]
     },
     "metadata": {
      "needs_background": "light"
     },
     "output_type": "display_data"
    }
   ],
   "source": [
    "plot_scatter(\"PutRange\", 1)"
   ]
  },
  {
   "cell_type": "code",
   "execution_count": null,
   "id": "incredible-pathology",
   "metadata": {
    "scrolled": true
   },
   "outputs": [],
   "source": [
    "plot_scatter(\"PutSingle\", 1)"
   ]
  },
  {
   "cell_type": "code",
   "execution_count": null,
   "id": "everyday-mumbai",
   "metadata": {
    "scrolled": true
   },
   "outputs": [],
   "source": [
    "plot_scatter(\"PutRandom\", 1)"
   ]
  },
  {
   "cell_type": "code",
   "execution_count": 36,
   "id": "vulnerable-wales",
   "metadata": {
    "scrolled": true
   },
   "outputs": [
    {
     "name": "stderr",
     "output_type": "stream",
     "text": [
      "<ipython-input-35-f317a84498a7>:52: UserWarning: Creating legend with loc=\"best\" can be slow with large amounts of data.\n",
      "  plt.savefig(f\"{exp_dir}/plots/latency-scatter-{lower_bench_type}.pdf\")\n",
      "<ipython-input-35-f317a84498a7>:52: UserWarning: Creating legend with loc=\"best\" can be slow with large amounts of data.\n",
      "  plt.savefig(f\"{exp_dir}/plots/latency-scatter-{lower_bench_type}.pdf\")\n",
      "/nix/store/9qfh7x7y9iiyyyzfv0zrdx53mz59wr7h-python3.9-ipython-7.24.1/lib/python3.9/site-packages/IPython/core/pylabtools.py:134: UserWarning: Creating legend with loc=\"best\" can be slow with large amounts of data.\n",
      "  fig.canvas.print_figure(bytes_io, **kw)\n"
     ]
    },
    {
     "data": {
      "image/png": "[encoded data removed]",
      "text/plain": [
       "<Figure size 460.8x345.6 with 1 Axes>"
      ]
     },
     "metadata": {
      "needs_background": "light"
     },
     "output_type": "display_data"
    }
   ],
   "source": [
    "plot_scatter(\"PutRange\", 3, show_sync=False)"
   ]
  },
  {
   "cell_type": "code",
   "execution_count": null,
   "id": "optimum-alloy",
   "metadata": {
    "scrolled": true
   },
   "outputs": [],
   "source": [
    "plot_scatter(\"PutSingle\", 3)"
   ]
  },
  {
   "cell_type": "code",
   "execution_count": null,
   "id": "talented-bankruptcy",
   "metadata": {
    "scrolled": true
   },
   "outputs": [],
   "source": [
    "plot_scatter(\"PutRandom\", 3)"
   ]
  },
  {
   "cell_type": "code",
   "execution_count": null,
   "id": "cultural-helena",
   "metadata": {
    "scrolled": true
   },
   "outputs": [],
   "source": [
    "plot_scatter(\"PutRange\", 5)"
   ]
  },
  {
   "cell_type": "code",
   "execution_count": null,
   "id": "undefined-bronze",
   "metadata": {
    "scrolled": true
   },
   "outputs": [],
   "source": [
    "plot_scatter(\"PutSingle\", 5)"
   ]
  },
  {
   "cell_type": "code",
   "execution_count": null,
   "id": "popular-column",
   "metadata": {
    "scrolled": true
   },
   "outputs": [],
   "source": [
    "plot_scatter(\"PutRandom\", 5)"
   ]
  },
  {
   "cell_type": "code",
   "execution_count": 42,
   "id": "described-memory",
   "metadata": {
    "scrolled": true
   },
   "outputs": [],
   "source": [
    "# latency cdfs plots\n",
    "\n",
    "import numpy as np\n",
    "import matplotlib.pyplot as plt\n",
    "\n",
    "plt.rcParams.update({\n",
    "    \"text.usetex\": True,\n",
    "    \"font.family\": \"serif\",\n",
    "    \"font.size\": 12,\n",
    "})\n",
    "\n",
    "def plot_cdf(bench_type, cluster_size, show_sync = True):\n",
    "\n",
    "    f = plt.figure()\n",
    "    f.set_figwidth(6.4 * 1)\n",
    "    f.set_figheight(4.8 * 1)\n",
    "\n",
    "    for (k, v) in timings.items():\n",
    "        config = json.loads(k)\n",
    "        if config[\"bench_type\"] != bench_type:\n",
    "            continue\n",
    "\n",
    "        if config[\"cluster_size\"] == cluster_size:\n",
    "            if config[\"image_name\"] == \"quay.io/coreos/etcd\":\n",
    "                image = \"etcd\"\n",
    "            elif config[\"image_name\"] == \"jeffas/eckd\":\n",
    "                image = \"eckd\"\n",
    "            elif \"jeffas/recetcd\" in config[\"image_name\"]:\n",
    "                image = \"recetcd\"\n",
    "            else:\n",
    "                print(\"unmatched image name:\", config[\"image_name\"])\n",
    "\n",
    "            if \"--sync\" in config[\"extra_args\"] and not show_sync:\n",
    "                continue\n",
    "                \n",
    "            sync = \" sync\" if \"--sync\" in config[\"extra_args\"] else \"\"\n",
    "\n",
    "            latencies = v[\"latencies\"]\n",
    "            latencies.sort()\n",
    "            size = len(latencies)\n",
    "            ys = np.array(range(size))/ float(size)\n",
    "\n",
    "            plt.plot(latencies, ys, label=f\"{image} x{cluster_size}{sync}\")\n",
    "\n",
    "    plt.grid()\n",
    "    plt.title(f\"Latency CDF ({bench_type})\")\n",
    "    plt.xlabel(\"Request duration (ms)\")\n",
    "    plt.ylabel(\"Probability\")\n",
    "    plt.legend()\n",
    "\n",
    "    lower_bench_type = bench_type.lower()\n",
    "    plt.savefig(f\"{exp_dir}/plots/latency-cdf-{lower_bench_type}.pdf\")"
   ]
  },
  {
   "cell_type": "code",
   "execution_count": null,
   "id": "liable-still",
   "metadata": {},
   "outputs": [],
   "source": [
    "plot_cdf(\"PutRange\", 1)"
   ]
  },
  {
   "cell_type": "code",
   "execution_count": null,
   "id": "radical-hudson",
   "metadata": {
    "scrolled": true
   },
   "outputs": [],
   "source": [
    "plot_cdf(\"PutSingle\", 1)"
   ]
  },
  {
   "cell_type": "code",
   "execution_count": null,
   "id": "persistent-coaching",
   "metadata": {},
   "outputs": [],
   "source": [
    "plot_cdf(\"PutRandom\", 1)"
   ]
  },
  {
   "cell_type": "code",
   "execution_count": 43,
   "id": "other-airport",
   "metadata": {},
   "outputs": [
    {
     "data": {
      "image/png": "[encoded data removed]",
      "text/plain": [
       "<Figure size 460.8x345.6 with 1 Axes>"
      ]
     },
     "metadata": {
      "needs_background": "light"
     },
     "output_type": "display_data"
    }
   ],
   "source": [
    "plot_cdf(\"PutRange\", 3, show_sync = False)"
   ]
  },
  {
   "cell_type": "code",
   "execution_count": null,
   "id": "stuck-speed",
   "metadata": {
    "scrolled": true
   },
   "outputs": [],
   "source": [
    "plot_cdf(\"PutSingle\", 3, show_sync = False)"
   ]
  },
  {
   "cell_type": "code",
   "execution_count": null,
   "id": "centered-domestic",
   "metadata": {},
   "outputs": [],
   "source": [
    "plot_cdf(\"PutRandom\", 3, show_sync = False)"
   ]
  },
  {
   "cell_type": "code",
   "execution_count": null,
   "id": "pacific-scenario",
   "metadata": {},
   "outputs": [],
   "source": [
    "plot_cdf(\"PutRange\", 5, show_sync = False)"
   ]
  },
  {
   "cell_type": "code",
   "execution_count": null,
   "id": "grand-transition",
   "metadata": {
    "scrolled": true
   },
   "outputs": [],
   "source": [
    "plot_cdf(\"PutSingle\", 5)"
   ]
  },
  {
   "cell_type": "code",
   "execution_count": null,
   "id": "ultimate-cause",
   "metadata": {
    "scrolled": true
   },
   "outputs": [],
   "source": [
    "plot_cdf(\"PutRandom\", 5)"
   ]
  },
  {
   "cell_type": "code",
   "execution_count": null,
   "id": "biological-thermal",
   "metadata": {},
   "outputs": [],
   "source": [
    "# get cpu and mem data\n",
    "\n",
    "import json\n",
    "from collections import defaultdict\n",
    "from datetime import datetime, timezone, timedelta\n",
    "\n",
    "cpu_usage = {} # mapping from config json to cpu usage list\n",
    "mem_usage = {} # mapping from config json to mem usage list\n",
    "\n",
    "for config in config_dirs:\n",
    "    print(\"processing\", config)\n",
    "    c = json.dumps(json.loads(\"\".join(open(f\"{exp_dir}/{config}/configuration.json\").readlines())))\n",
    "\n",
    "    for repeat in os.listdir(f\"{exp_dir}/{config}\"):\n",
    "        if repeat.startswith(\"repeat\"):\n",
    "            with open(f\"{exp_dir}/{config}/{repeat}/logs/docker-bench.log\", \"r\") as log:\n",
    "                for line in log.readlines():\n",
    "                    j = line.split()[1]\n",
    "                    try:\n",
    "                        output = json.loads(j)\n",
    "                    except ValueError:\n",
    "                        continue\n",
    "\n",
    "                    start_secs = output[\"start\"][\"secs_since_epoch\"]\n",
    "                    start_nanos = output[\"start\"][\"nanos_since_epoch\"]\n",
    "                    start = datetime(1970, 1, 1) + timedelta(seconds=start_secs,microseconds=start_nanos/1000)\n",
    "                    break\n",
    "                    \n",
    "            # read metrics of node*\n",
    "            with open(f\"{exp_dir}/{config}/{repeat}/metrics/docker-node1.stat\", \"r\") as stats:\n",
    "                times = []\n",
    "                cpus = []\n",
    "                mems = []\n",
    "                for line in stats.readlines():\n",
    "                    sp = line.split()\n",
    "                    \n",
    "                    dt = sp[0]\n",
    "                    dt = dt.replace(\"+00:00\",\"\")\n",
    "                    dot = dt.find(\".\")\n",
    "        \n",
    "                    dt = datetime.fromisoformat(dt[:dot+7])\n",
    "             \n",
    "                    times.append(dt-start)\n",
    "                    j = sp[1]\n",
    "                    \n",
    "                    output = json.loads(j)\n",
    "                    \n",
    "                    # from https://github.com/docker/cli/blob/bf4a96e5640f86860e68622d2498039d86bf5714/cli/command/container/stats_helpers.go#L166\n",
    "                    cpu_percent = 0\n",
    "                    cpu_delta = output[\"cpu_stats\"][\"cpu_usage\"][\"total_usage\"] - output[\"precpu_stats\"][\"cpu_usage\"][\"total_usage\"]\n",
    "                    system_delta = output[\"cpu_stats\"][\"system_cpu_usage\"] - (output[\"precpu_stats\"][\"system_cpu_usage\"] or 0)\n",
    "                    online_cpus = output[\"cpu_stats\"][\"online_cpus\"]\n",
    "                    if online_cpus == 0:\n",
    "                        print(\"no cpus!!\")\n",
    "                    if system_delta > 0 and cpu_delta > 0:\n",
    "                        cpu_percent = (float(cpu_delta) / float(system_delta)) * float(online_cpus) * 100.0\n",
    "                    cpus.append(cpu_percent)\n",
    "                    \n",
    "                    \n",
    "                    mem = output[\"memory_stats\"][\"usage\"]\n",
    "                    mems.append(mem)\n",
    "                \n",
    "                cpu_usage[c] = (times, cpus)\n",
    "                mem_usage[c] = (times, mems)"
   ]
  },
  {
   "cell_type": "code",
   "execution_count": null,
   "id": "historic-theorem",
   "metadata": {},
   "outputs": [],
   "source": [
    "# cpu usage plots\n",
    "\n",
    "import numpy as np\n",
    "import matplotlib.pyplot as plt\n",
    "\n",
    "plt.rcParams.update({\n",
    "    \"text.usetex\": True,\n",
    "    \"font.family\": \"serif\",\n",
    "    \"font.size\": 12,\n",
    "})\n",
    "\n",
    "def plot_cpu(bench_type, cluster_size):\n",
    "\n",
    "    f = plt.figure()\n",
    "    f.set_figwidth(6.4 * 1)\n",
    "    f.set_figheight(4.8 * 1)\n",
    "\n",
    "    for (k, v) in cpu_usage.items():\n",
    "        config = json.loads(k)\n",
    "        if config[\"bench_type\"] != bench_type:\n",
    "            continue\n",
    "\n",
    "        if config[\"cluster_size\"] == cluster_size:\n",
    "            if config[\"image_name\"] == \"quay.io/coreos/etcd\":\n",
    "                image = \"etcd\"\n",
    "            elif config[\"image_name\"] == \"jeffas/eckd\":\n",
    "                image = \"eckd\"\n",
    "            elif config[\"image_name\"] == \"jeffas/recetcd\":\n",
    "                image = \"recetcd\"\n",
    "            else:\n",
    "                print(\"unmatched image name:\", config[\"image_name\"])\n",
    "\n",
    "            sync = \" sync\" if \"--sync\" in config[\"extra_args\"] else \"\"\n",
    "\n",
    "            xs = [x.total_seconds() for x in v[0]]\n",
    "            ys = v[1]\n",
    "\n",
    "            plt.plot(xs, ys, label=f\"{image} x{cluster_size}{sync}\")\n",
    "\n",
    "    plt.grid()\n",
    "    plt.title(f\"CPU Usage ({bench_type})\")\n",
    "    plt.xlabel(\"Time since start (s)\")\n",
    "    plt.ylabel(\"CPU usage (\\%)\")\n",
    "    plt.legend()\n",
    "\n",
    "    lower_bench_type = bench_type.lower()\n",
    "    plt.savefig(f\"{exp_dir}/plots/cpu-usage-{lower_bench_type}.pdf\")"
   ]
  },
  {
   "cell_type": "code",
   "execution_count": null,
   "id": "prerequisite-father",
   "metadata": {
    "scrolled": true
   },
   "outputs": [],
   "source": [
    "plot_cpu(\"PutRange\", 1)"
   ]
  },
  {
   "cell_type": "code",
   "execution_count": null,
   "id": "strategic-launch",
   "metadata": {},
   "outputs": [],
   "source": [
    "plot_cpu(\"PutSingle\", 1)"
   ]
  },
  {
   "cell_type": "code",
   "execution_count": null,
   "id": "stuck-weight",
   "metadata": {
    "scrolled": true
   },
   "outputs": [],
   "source": [
    "plot_cpu(\"PutRandom\", 1)"
   ]
  },
  {
   "cell_type": "code",
   "execution_count": null,
   "id": "hazardous-farming",
   "metadata": {
    "scrolled": true
   },
   "outputs": [],
   "source": [
    "plot_cpu(\"PutRange\", 3)"
   ]
  },
  {
   "cell_type": "code",
   "execution_count": null,
   "id": "continuous-configuration",
   "metadata": {},
   "outputs": [],
   "source": [
    "plot_cpu(\"PutSingle\", 3)"
   ]
  },
  {
   "cell_type": "code",
   "execution_count": null,
   "id": "prepared-garbage",
   "metadata": {},
   "outputs": [],
   "source": [
    "plot_cpu(\"PutRandom\", 3)"
   ]
  },
  {
   "cell_type": "code",
   "execution_count": null,
   "id": "statistical-garlic",
   "metadata": {
    "scrolled": true
   },
   "outputs": [],
   "source": [
    "plot_cpu(\"PutRange\", 5)"
   ]
  },
  {
   "cell_type": "code",
   "execution_count": null,
   "id": "engaging-polymer",
   "metadata": {},
   "outputs": [],
   "source": [
    "plot_cpu(\"PutSingle\", 5)"
   ]
  },
  {
   "cell_type": "code",
   "execution_count": null,
   "id": "superb-weekly",
   "metadata": {},
   "outputs": [],
   "source": [
    "plot_cpu(\"PutRandom\", 5)"
   ]
  },
  {
   "cell_type": "code",
   "execution_count": null,
   "id": "sixth-andorra",
   "metadata": {},
   "outputs": [],
   "source": [
    "# mem usage plots\n",
    "\n",
    "import numpy as np\n",
    "import matplotlib.pyplot as plt\n",
    "\n",
    "plt.rcParams.update({\n",
    "    \"text.usetex\": True,\n",
    "    \"font.family\": \"serif\",\n",
    "    \"font.size\": 12,\n",
    "})\n",
    "\n",
    "def plot_mem(bench_type, cluster_size):\n",
    "    f = plt.figure()\n",
    "    f.set_figwidth(6.4 * 1)\n",
    "    f.set_figheight(4.8 * 1)\n",
    "\n",
    "    for (k, v) in mem_usage.items():\n",
    "        config = json.loads(k)\n",
    "        if config[\"bench_type\"] != bench_type:\n",
    "            continue\n",
    "\n",
    "        if config[\"cluster_size\"] == cluster_size:\n",
    "            if config[\"image_name\"] == \"quay.io/coreos/etcd\":\n",
    "                image = \"etcd\"\n",
    "            elif config[\"image_name\"] == \"jeffas/eckd\":\n",
    "                image = \"eckd\"\n",
    "            elif config[\"image_name\"] == \"jeffas/recetcd\":\n",
    "                image = \"recetcd\"\n",
    "            else:\n",
    "                print(\"unmatched image name:\", config[\"image_name\"])\n",
    "\n",
    "            sync = \" sync\" if \"--sync\" in config[\"extra_args\"] else \"\"\n",
    "\n",
    "            xs = [x.total_seconds() for x in v[0]]\n",
    "            ys = np.array(v[1]) / 1_000_000\n",
    "\n",
    "            plt.plot(xs, ys, label=f\"{image} x{cluster_size}{sync}\")\n",
    "\n",
    "    plt.grid()\n",
    "    plt.title(f\"Memory Usage ({bench_type})\")\n",
    "    plt.xlabel(\"Time since start (s)\")\n",
    "    plt.ylabel(\"Memory usage (MB)\")\n",
    "    plt.legend()\n",
    "\n",
    "    lower_bench_type = bench_type.lower()\n",
    "    plt.savefig(f\"{exp_dir}/plots/mem-usage-{lower_bench_type}.pdf\")"
   ]
  },
  {
   "cell_type": "code",
   "execution_count": null,
   "id": "exclusive-acrobat",
   "metadata": {},
   "outputs": [],
   "source": [
    "plot_mem(\"PutRange\", 1)"
   ]
  },
  {
   "cell_type": "code",
   "execution_count": null,
   "id": "moral-costume",
   "metadata": {},
   "outputs": [],
   "source": [
    "plot_mem(\"PutSingle\", 1)"
   ]
  },
  {
   "cell_type": "code",
   "execution_count": null,
   "id": "posted-christianity",
   "metadata": {},
   "outputs": [],
   "source": [
    "plot_mem(\"PutRandom\", 1)"
   ]
  },
  {
   "cell_type": "code",
   "execution_count": null,
   "id": "excessive-radius",
   "metadata": {},
   "outputs": [],
   "source": [
    "plot_mem(\"PutRange\", 3)"
   ]
  },
  {
   "cell_type": "code",
   "execution_count": null,
   "id": "industrial-rugby",
   "metadata": {},
   "outputs": [],
   "source": [
    "plot_mem(\"PutSingle\", 3)"
   ]
  },
  {
   "cell_type": "code",
   "execution_count": null,
   "id": "practical-batch",
   "metadata": {},
   "outputs": [],
   "source": [
    "plot_mem(\"PutRandom\", 3)"
   ]
  },
  {
   "cell_type": "code",
   "execution_count": null,
   "id": "listed-evanescence",
   "metadata": {},
   "outputs": [],
   "source": [
    "plot_mem(\"PutRange\", 5)"
   ]
  },
  {
   "cell_type": "code",
   "execution_count": null,
   "id": "heated-official",
   "metadata": {},
   "outputs": [],
   "source": [
    "plot_mem(\"PutSingle\", 5)"
   ]
  },
  {
   "cell_type": "code",
   "execution_count": null,
   "id": "solid-typing",
   "metadata": {},
   "outputs": [],
   "source": [
    "plot_mem(\"PutRandom\", 5)"
   ]
  }
 ],
 "metadata": {
  "kernelspec": {
   "display_name": "Python 3",
   "language": "python",
   "name": "python3"
  },
  "language_info": {
   "codemirror_mode": {
    "name": "ipython",
    "version": 3
   },
   "file_extension": ".py",
   "mimetype": "text/x-python",
   "name": "python",
   "nbconvert_exporter": "python",
   "pygments_lexer": "ipython3",
   "version": "3.9.6"
  }
 },
 "nbformat": 4,
 "nbformat_minor": 5
}
